{
 "cells": [
  {
   "cell_type": "code",
   "execution_count": 64,
   "id": "5476d0be",
   "metadata": {},
   "outputs": [
    {
     "name": "stdout",
     "output_type": "stream",
     "text": [
      "0\n"
     ]
    }
   ],
   "source": [
    "#solution 1\n",
    "\n",
    "def first_uniq_char(s):\n",
    "    char_count = {}\n",
    "\n",
    "    for char in s:\n",
    "        char_count[char] = char_count.get(char, 0) + 1\n",
    "\n",
    "    for i in range(len(s)):\n",
    "        if char_count[s[i]] == 1:\n",
    "            return i\n",
    "\n",
    "    return -1\n",
    "\n",
    "s = \"leetcode\"\n",
    "result = first_uniq_char(s)\n",
    "print(result) \n"
   ]
  },
  {
   "cell_type": "code",
   "execution_count": 63,
   "id": "dcee67d2",
   "metadata": {},
   "outputs": [
    {
     "name": "stdout",
     "output_type": "stream",
     "text": [
      "3\n"
     ]
    }
   ],
   "source": [
    "#solution 2\n",
    "\n",
    "def max_sum_circular(nums):\n",
    "    total_sum = 0\n",
    "    max_sum = float('-inf')\n",
    "    curr_max = 0\n",
    "    min_sum = float('inf')\n",
    "    curr_min = 0\n",
    "\n",
    "    \n",
    "    for num in nums:\n",
    "        curr_max = max(curr_max + num, num)\n",
    "        max_sum = max(max_sum, curr_max)\n",
    "        total_sum += num\n",
    "\n",
    "        curr_min = min(curr_min + num, num)\n",
    "        min_sum = min(min_sum, curr_min)\n",
    "\n",
    "  \n",
    "    if max_sum > 0:\n",
    "        circular_max_sum = total_sum - min_sum\n",
    "        return max(max_sum, circular_max_sum)\n",
    "    else:\n",
    "        return max_sum\n",
    "\n",
    "\n",
    "nums = [1, -2, 3, -2]\n",
    "result = max_sum_circular(nums)\n",
    "print(result) \n"
   ]
  },
  {
   "cell_type": "code",
   "execution_count": 62,
   "id": "b6289e32",
   "metadata": {},
   "outputs": [
    {
     "name": "stdout",
     "output_type": "stream",
     "text": [
      "1\n"
     ]
    }
   ],
   "source": [
    "#solution 3\n",
    "\n",
    "def count_students(students, sandwiches):\n",
    "    count = 0\n",
    "    n = len(students)\n",
    "\n",
    "    while count < n:\n",
    "        if students[0] == sandwiches[0]:\n",
    "            students.pop(0)\n",
    "            sandwiches.pop(0)\n",
    "            count = 0  \n",
    "        else:\n",
    "            students.append(students.pop(0))\n",
    "            count += 1\n",
    "\n",
    "       \n",
    "        if students == students[-1:] * len(students):\n",
    "            break\n",
    "\n",
    "    return len(students)\n",
    "\n",
    "\n",
    "students = [1, 1, 0, 0]\n",
    "sandwiches = [0, 1, 0, 1]\n",
    "result = count_students(students, sandwiches)\n",
    "print(result)  \n",
    "\n"
   ]
  },
  {
   "cell_type": "code",
   "execution_count": 58,
   "id": "1ca75c21",
   "metadata": {},
   "outputs": [
    {
     "name": "stdout",
     "output_type": "stream",
     "text": [
      "[None, 1, 2, 3, 3]\n"
     ]
    }
   ],
   "source": [
    "#solution 4\n",
    "from collections import deque\n",
    "\n",
    "class RecentCounter:\n",
    "    def __init__(self):\n",
    "        self.requests = deque()\n",
    "\n",
    "    def ping(self, t: int) -> int:\n",
    "        self.requests.append(t)\n",
    "\n",
    "       \n",
    "        while self.requests[0] < t - 3000:\n",
    "            self.requests.popleft()\n",
    "\n",
    "        return len(self.requests)\n",
    "recentCounter = RecentCounter()\n",
    "output = [None, recentCounter.ping(1), recentCounter.ping(100), recentCounter.ping(3001), recentCounter.ping(3002)]\n",
    "print(output)  \n",
    "\n",
    "\n",
    "\n",
    "\n"
   ]
  },
  {
   "cell_type": "code",
   "execution_count": 59,
   "id": "f2929535",
   "metadata": {},
   "outputs": [
    {
     "name": "stdout",
     "output_type": "stream",
     "text": [
      "3\n"
     ]
    }
   ],
   "source": [
    "#solution 5\n",
    "\n",
    "def find_winner(n, k):\n",
    "    friends = list(range(1, n+1))  \n",
    "\n",
    "    current = 0  \n",
    "    while len(friends) > 1:\n",
    "        current = (current + k - 1) % len(friends) \n",
    "        friends.pop(current)  \n",
    "\n",
    "    return friends[0]\n",
    "\n",
    "\n",
    "n = 5\n",
    "k = 2\n",
    "winner = find_winner(n, k)\n",
    "print(winner) \n"
   ]
  },
  {
   "cell_type": "code",
   "execution_count": 61,
   "id": "812f9532",
   "metadata": {},
   "outputs": [
    {
     "name": "stdout",
     "output_type": "stream",
     "text": [
      "[2, 13, 3, 11, 5, 17, 7]\n"
     ]
    }
   ],
   "source": [
    "#solution 6\n",
    "from collections import deque\n",
    "import heapq\n",
    "\n",
    "def deck_revealing(deck):\n",
    "    deck.sort(reverse=True)\n",
    "    \n",
    "\n",
    "    revealed = deque([deck[0]])\n",
    "    \n",
    "    \n",
    "    for card in deck[1:]:\n",
    "        \n",
    "        revealed.appendleft(revealed.pop())\n",
    "       \n",
    "        revealed.appendleft(card)\n",
    "    \n",
    "    \n",
    "    return list(revealed)\n",
    "\n",
    "\n",
    "deck = [17, 13, 11, 2, 3, 5, 7]\n",
    "print(deck_revealing(deck))\n",
    "\n"
   ]
  },
  {
   "cell_type": "code",
   "execution_count": 66,
   "id": "48c27b74",
   "metadata": {},
   "outputs": [
    {
     "name": "stdout",
     "output_type": "stream",
     "text": [
      "[None, None, None, None, None, 1, 1, 1, 4, 1]\n"
     ]
    }
   ],
   "source": [
    "#solution 7\n",
    "class FrontMiddleBackQueue:\n",
    "    def __init__(self):\n",
    "        self.front = []\n",
    "        self.back = []\n",
    "\n",
    "    def pushFront(self, val):\n",
    "        self.front.append(val)\n",
    "        self.balance()\n",
    "\n",
    "    def pushMiddle(self, val):\n",
    "        n = len(self.front) + len(self.back)\n",
    "        if n % 2 == 0:\n",
    "            self.front.append(val)\n",
    "        else:\n",
    "            self.back.append(val)\n",
    "        self.balance()\n",
    "\n",
    "    def pushBack(self, val):\n",
    "        self.back.append(val)\n",
    "        self.balance()\n",
    "\n",
    "    def popFront(self):\n",
    "        if not self.front and not self.back:\n",
    "            return -1\n",
    "        if self.front:\n",
    "            return self.front.pop()\n",
    "        else:\n",
    "            val = self.back[0]\n",
    "            self.back = self.back[1:]\n",
    "            self.balance()\n",
    "            return val\n",
    "\n",
    "    def popMiddle(self):\n",
    "        if not self.front and not self.back:\n",
    "            return -1\n",
    "        n = len(self.front) + len(self.back)\n",
    "        if n % 2 == 0:\n",
    "            val = self.front.pop()\n",
    "        else:\n",
    "            val = self.back.pop(0)\n",
    "        self.balance()\n",
    "        return val\n",
    "\n",
    "    def popBack(self):\n",
    "        if not self.front and not self.back:\n",
    "            return -1\n",
    "        if self.back:\n",
    "            return self.back.pop()\n",
    "        else:\n",
    "            val = self.front[0]\n",
    "            self.front = self.front[1:]\n",
    "            self.balance()\n",
    "            return val\n",
    "\n",
    "    def balance(self):\n",
    "        n = len(self.front) + len(self.back)\n",
    "        if len(self.front) > n // 2:\n",
    "            self.back = self.front[n // 2:] + self.back\n",
    "            self.front = self.front[:n // 2]\n",
    "        elif len(self.front) < n // 2:\n",
    "            self.front = self.front + self.back[:n // 2 - len(self.front)]\n",
    "            self.back = self.back[n // 2 - len(self.front):]\n",
    "\n",
    "\n",
    "queue = FrontMiddleBackQueue()\n",
    "output = [None]\n",
    "\n",
    "queue.pushFront(1)\n",
    "output.append(None)\n",
    "\n",
    "queue.pushBack(2)\n",
    "output.append(None)\n",
    "\n",
    "queue.pushMiddle(3)\n",
    "output.append(None)\n",
    "\n",
    "queue.pushMiddle(4)\n",
    "output.append(None)\n",
    "\n",
    "output.append(queue.popFront())\n",
    "output.append(queue.popMiddle())\n",
    "output.append(queue.popMiddle())\n",
    "output.append(queue.popBack())\n",
    "output.append(queue.popFront())\n",
    "\n",
    "print(output)\n",
    "\n"
   ]
  },
  {
   "cell_type": "code",
   "execution_count": 67,
   "id": "f2bde866",
   "metadata": {},
   "outputs": [
    {
     "name": "stdout",
     "output_type": "stream",
     "text": [
      "[None, False, False, True, False]\n"
     ]
    }
   ],
   "source": [
    "#solution 8\n",
    "\n",
    "class DataStream:\n",
    "    def __init__(self, value, k):\n",
    "        self.stream = []\n",
    "        self.value = value\n",
    "        self.k = k\n",
    "\n",
    "    def consec(self, num):\n",
    "        self.stream.append(num)\n",
    "        if len(self.stream) < self.k:\n",
    "            return False\n",
    "        return self.stream[-self.k:] == [self.value] * self.k\n",
    "\n",
    "\n",
    "data_stream = DataStream(4, 3)\n",
    "output = [None]\n",
    "\n",
    "output.append(data_stream.consec(4))\n",
    "output.append(data_stream.consec(4))\n",
    "output.append(data_stream.consec(4))\n",
    "output.append(data_stream.consec(3))\n",
    "\n",
    "print(output)\n"
   ]
  }
 ],
 "metadata": {
  "kernelspec": {
   "display_name": "Python 3 (ipykernel)",
   "language": "python",
   "name": "python3"
  },
  "language_info": {
   "codemirror_mode": {
    "name": "ipython",
    "version": 3
   },
   "file_extension": ".py",
   "mimetype": "text/x-python",
   "name": "python",
   "nbconvert_exporter": "python",
   "pygments_lexer": "ipython3",
   "version": "3.10.9"
  }
 },
 "nbformat": 4,
 "nbformat_minor": 5
}
