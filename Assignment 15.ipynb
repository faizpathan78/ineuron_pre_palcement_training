{
 "cells": [
  {
   "cell_type": "code",
   "execution_count": 86,
   "id": "a626cdab",
   "metadata": {},
   "outputs": [
    {
     "name": "stdout",
     "output_type": "stream",
     "text": [
      "[3, 4, 4, -1]\n"
     ]
    }
   ],
   "source": [
    "#solution 1 \n",
    "def next_greater_element(arr):\n",
    "    n = len(arr)\n",
    "    result = [-1] * n\n",
    "    stack = []\n",
    "\n",
    "    for i in range(n - 1, -1, -1):\n",
    "        while stack and stack[-1] <= arr[i]:\n",
    "            stack.pop()\n",
    "\n",
    "        if stack:\n",
    "            result[i] = stack[-1]\n",
    "\n",
    "        stack.append(arr[i])\n",
    "\n",
    "    return result\n",
    "\n",
    "arr = [1, 3, 2, 4]\n",
    "result = next_greater_element(arr)\n",
    "print(result)  "
   ]
  },
  {
   "cell_type": "code",
   "execution_count": 87,
   "id": "7c3cbe6c",
   "metadata": {},
   "outputs": [
    {
     "name": "stdout",
     "output_type": "stream",
     "text": [
      "[-1, 1, 1]\n"
     ]
    }
   ],
   "source": [
    "#solution 2 \n",
    "def nearest_smaller_element(a):\n",
    "    n = len(a)\n",
    "    result = [-1] * n\n",
    "    stack = []\n",
    "\n",
    "    for i in range(n):\n",
    "        while stack and stack[-1] >= a[i]:\n",
    "            stack.pop()\n",
    "\n",
    "        if stack:\n",
    "            result[i] = stack[-1]\n",
    "\n",
    "        stack.append(a[i])\n",
    "\n",
    "    return result\n",
    "\n",
    "a = [1, 6, 2]\n",
    "result = nearest_smaller_element(a)\n",
    "print(result)\n"
   ]
  },
  {
   "cell_type": "code",
   "execution_count": 88,
   "id": "ffba0151",
   "metadata": {},
   "outputs": [
    {
     "name": "stdout",
     "output_type": "stream",
     "text": [
      "3\n",
      "4\n"
     ]
    }
   ],
   "source": [
    "#solution 3\n",
    "class Stack:\n",
    "    def __init__(self):\n",
    "        self.q1 = []\n",
    "        self.q2 = []\n",
    "\n",
    "    def push(self, val):\n",
    "        self.q1.append(val)\n",
    "\n",
    "    def pop(self):\n",
    "        if not self.q1:\n",
    "            return None\n",
    "\n",
    "       \n",
    "        while len(self.q1) > 1:\n",
    "            self.q2.append(self.q1.pop(0))\n",
    "\n",
    "        element = self.q1.pop(0)\n",
    "\n",
    "       \n",
    "        self.q1, self.q2 = self.q2, self.q1\n",
    "\n",
    "        return element\n",
    "\n",
    "\n",
    "stack = Stack()\n",
    "stack.push(2)\n",
    "stack.push(3)\n",
    "print(stack.pop()) \n",
    "stack.push(4)\n",
    "print(stack.pop()) \n"
   ]
  },
  {
   "cell_type": "code",
   "execution_count": 89,
   "id": "4f03ab70",
   "metadata": {},
   "outputs": [
    {
     "name": "stdout",
     "output_type": "stream",
     "text": [
      "[6, 7, 1, 2, 3]\n"
     ]
    }
   ],
   "source": [
    "#solution 4 \n",
    "def reverse_stack(stack):\n",
    "    if len(stack) <= 1:\n",
    "        return\n",
    "\n",
    "    top_element = stack.pop()\n",
    "    reverse_stack(stack)\n",
    "    insert_at_bottom(stack, top_element)\n",
    "\n",
    "\n",
    "def insert_at_bottom(stack, element):\n",
    "    if len(stack) == 0:\n",
    "        stack.append(element)\n",
    "        return\n",
    "\n",
    "    top_element = stack.pop()\n",
    "    insert_at_bottom(stack, element)\n",
    "    stack.append(top_element)\n",
    "\n",
    "\n",
    "stack = [3, 2, 1, 7, 6]\n",
    "reverse_stack(stack)\n",
    "print(stack)\n"
   ]
  },
  {
   "cell_type": "code",
   "execution_count": 90,
   "id": "0c85381c",
   "metadata": {},
   "outputs": [
    {
     "name": "stdout",
     "output_type": "stream",
     "text": [
      "skeeGrofskeeG\n"
     ]
    }
   ],
   "source": [
    "#solution 5\n",
    "def reverse_string(string):\n",
    "    stack = []\n",
    "    reversed_string = \"\"\n",
    "\n",
    "    for char in string:\n",
    "        stack.append(char)\n",
    "\n",
    "   \n",
    "    while len(stack) > 0:\n",
    "        reversed_string += stack.pop()\n",
    "\n",
    "    return reversed_string\n",
    "\n",
    "s = \"GeeksforGeeks\"\n",
    "reversed_s = reverse_string(s)\n",
    "print(reversed_s) \n"
   ]
  },
  {
   "cell_type": "code",
   "execution_count": 91,
   "id": "354e0fb9",
   "metadata": {},
   "outputs": [
    {
     "name": "stdout",
     "output_type": "stream",
     "text": [
      "-4\n"
     ]
    }
   ],
   "source": [
    "#solution 6 \n",
    "def evaluate_postfix(expression):\n",
    "    stack = []\n",
    "\n",
    "    for char in expression:\n",
    "        if char.isdigit():\n",
    "            stack.append(int(char))\n",
    "        else:\n",
    "            operand2 = stack.pop()\n",
    "            operand1 = stack.pop()\n",
    "\n",
    "            if char == '+':\n",
    "                result = operand1 + operand2\n",
    "            elif char == '-':\n",
    "                result = operand1 - operand2\n",
    "            elif char == '*':\n",
    "                result = operand1 * operand2\n",
    "            elif char == '/':\n",
    "                result = operand1 / operand2\n",
    "\n",
    "            stack.append(result)\n",
    "\n",
    "    return stack.pop()\n",
    "\n",
    "\n",
    "postfix_expr = \"231*+9-\"\n",
    "result = evaluate_postfix(postfix_expr)\n",
    "print(result)  \n"
   ]
  },
  {
   "cell_type": "code",
   "execution_count": 92,
   "id": "e6924946",
   "metadata": {},
   "outputs": [
    {
     "name": "stdout",
     "output_type": "stream",
     "text": [
      "-3\n",
      "0\n",
      "-2\n"
     ]
    }
   ],
   "source": [
    "#solution 7\n",
    "class MinStack:\n",
    "    def __init__(self):\n",
    "        self.stack = []  \n",
    "        self.min_stack = []\n",
    "\n",
    "    def push(self, val):\n",
    "        self.stack.append(val)\n",
    "        \n",
    "        if not self.min_stack or val <= self.min_stack[-1]:\n",
    "            self.min_stack.append(val)\n",
    "\n",
    "    def pop(self):\n",
    "        if self.stack:\n",
    "            \n",
    "            if self.stack[-1] == self.min_stack[-1]:\n",
    "                self.min_stack.pop()\n",
    "            self.stack.pop()\n",
    "\n",
    "    def top(self):\n",
    "        if self.stack:\n",
    "            return self.stack[-1]\n",
    "\n",
    "    def getMin(self):\n",
    "        if self.min_stack:\n",
    "            return self.min_stack[-1]\n",
    "\n",
    "        \n",
    "minStack = MinStack()\n",
    "minStack.push(-2)\n",
    "minStack.push(0)\n",
    "minStack.push(-3)\n",
    "print(minStack.getMin())\n",
    "minStack.pop()\n",
    "print(minStack.top())  \n",
    "print(minStack.getMin()) \n"
   ]
  },
  {
   "cell_type": "code",
   "execution_count": 93,
   "id": "5cb20727",
   "metadata": {},
   "outputs": [
    {
     "name": "stdout",
     "output_type": "stream",
     "text": [
      "6\n"
     ]
    }
   ],
   "source": [
    "#solution 8\n",
    "def trap(height):\n",
    "    if not height or len(height) < 3:\n",
    "        return 0\n",
    "    \n",
    "    n = len(height)\n",
    "    left = 0\n",
    "    right = n - 1\n",
    "    left_max = right_max = water = 0\n",
    "    \n",
    "    while left < right:\n",
    "        if height[left] <= height[right]:\n",
    "            if height[left] >= left_max:\n",
    "                left_max = height[left]\n",
    "            else:\n",
    "                water += left_max - height[left]\n",
    "            left += 1\n",
    "        else:\n",
    "            if height[right] >= right_max:\n",
    "                right_max = height[right]\n",
    "            else:\n",
    "                water += right_max - height[right]\n",
    "            right -= 1\n",
    "    \n",
    "    return water\n",
    "height = [0, 1, 0, 2, 1, 0, 1, 3, 2, 1, 2, 1]\n",
    "print(trap(height)) \n",
    "\n"
   ]
  }
 ],
 "metadata": {
  "kernelspec": {
   "display_name": "Python 3 (ipykernel)",
   "language": "python",
   "name": "python3"
  },
  "language_info": {
   "codemirror_mode": {
    "name": "ipython",
    "version": 3
   },
   "file_extension": ".py",
   "mimetype": "text/x-python",
   "name": "python",
   "nbconvert_exporter": "python",
   "pygments_lexer": "ipython3",
   "version": "3.10.9"
  }
 },
 "nbformat": 4,
 "nbformat_minor": 5
}
