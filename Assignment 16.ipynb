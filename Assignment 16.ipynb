{
 "cells": [
  {
   "cell_type": "code",
   "execution_count": 73,
   "id": "904be36c",
   "metadata": {},
   "outputs": [
    {
     "ename": "KeyError",
     "evalue": "2",
     "output_type": "error",
     "traceback": [
      "\u001b[1;31m---------------------------------------------------------------------------\u001b[0m",
      "\u001b[1;31mKeyError\u001b[0m                                  Traceback (most recent call last)",
      "Cell \u001b[1;32mIn[73], line 21\u001b[0m\n\u001b[0;32m     17\u001b[0m     \u001b[38;5;28;01mreturn\u001b[39;00m result\n\u001b[0;32m     20\u001b[0m arr \u001b[38;5;241m=\u001b[39m [\u001b[38;5;241m1\u001b[39m, \u001b[38;5;241m1\u001b[39m, \u001b[38;5;241m2\u001b[39m, \u001b[38;5;241m3\u001b[39m, \u001b[38;5;241m4\u001b[39m, \u001b[38;5;241m2\u001b[39m, \u001b[38;5;241m1\u001b[39m]\n\u001b[1;32m---> 21\u001b[0m output \u001b[38;5;241m=\u001b[39m \u001b[43mfind_nearest_greater_frequency\u001b[49m\u001b[43m(\u001b[49m\u001b[43marr\u001b[49m\u001b[43m)\u001b[49m\n\u001b[0;32m     22\u001b[0m \u001b[38;5;28mprint\u001b[39m(output)\n",
      "Cell \u001b[1;32mIn[73], line 13\u001b[0m, in \u001b[0;36mfind_nearest_greater_frequency\u001b[1;34m(arr)\u001b[0m\n\u001b[0;32m     10\u001b[0m     frequency[arr[i]] \u001b[38;5;241m=\u001b[39m \u001b[38;5;241m1\u001b[39m\n\u001b[0;32m     12\u001b[0m \u001b[38;5;28;01mfor\u001b[39;00m j \u001b[38;5;129;01min\u001b[39;00m \u001b[38;5;28mrange\u001b[39m(i\u001b[38;5;241m+\u001b[39m\u001b[38;5;241m1\u001b[39m, \u001b[38;5;28mlen\u001b[39m(arr)):\n\u001b[1;32m---> 13\u001b[0m     \u001b[38;5;28;01mif\u001b[39;00m \u001b[43mfrequency\u001b[49m\u001b[43m[\u001b[49m\u001b[43marr\u001b[49m\u001b[43m[\u001b[49m\u001b[43mj\u001b[49m\u001b[43m]\u001b[49m\u001b[43m]\u001b[49m \u001b[38;5;241m>\u001b[39m frequency[arr[i]]:\n\u001b[0;32m     14\u001b[0m         result[i] \u001b[38;5;241m=\u001b[39m arr[j]\n\u001b[0;32m     15\u001b[0m         \u001b[38;5;28;01mbreak\u001b[39;00m\n",
      "\u001b[1;31mKeyError\u001b[0m: 2"
     ]
    }
   ],
   "source": [
    "#solution 1\n",
    "def find_nearest_greater_frequency(arr):\n",
    "    frequency = {}\n",
    "    result = [-1] * len(arr)\n",
    "\n",
    "    for i in range(len(arr)):\n",
    "        if arr[i] in frequency:\n",
    "            frequency[arr[i]] += 1\n",
    "        else:\n",
    "            frequency[arr[i]] = 1\n",
    "\n",
    "        for j in range(i+1, len(arr)):\n",
    "            if frequency[arr[j]] > frequency[arr[i]]:\n",
    "                result[i] = arr[j]\n",
    "                break\n",
    "\n",
    "    return result\n",
    "\n",
    "\n",
    "arr = [1, 1, 2, 3, 4, 2, 1]\n",
    "output = find_nearest_greater_frequency(arr)\n",
    "print(output)\n"
   ]
  },
  {
   "cell_type": "code",
   "execution_count": 75,
   "id": "64de043c",
   "metadata": {},
   "outputs": [
    {
     "name": "stdout",
     "output_type": "stream",
     "text": [
      "[3, 23, 31, 34, 92, 98]\n"
     ]
    }
   ],
   "source": [
    "#solution 2 \n",
    "def sort_stack(stack):\n",
    "    temp_stack = []\n",
    "\n",
    "    while stack:\n",
    "        temp = stack.pop()\n",
    "\n",
    "        while temp_stack and temp_stack[-1] < temp:\n",
    "            stack.append(temp_stack.pop())\n",
    "\n",
    "        temp_stack.append(temp)\n",
    "\n",
    "    while temp_stack:\n",
    "        stack.append(temp_stack.pop())\n",
    "\n",
    "    return stack\n",
    "\n",
    "\n",
    "# Example usage\n",
    "stack = [34, 3, 31, 98, 92, 23]\n",
    "sorted_stack = sort_stack(stack)\n",
    "print(sorted_stack)\n",
    "\n"
   ]
  },
  {
   "cell_type": "code",
   "execution_count": 79,
   "id": "5ec6c018",
   "metadata": {},
   "outputs": [
    {
     "name": "stdout",
     "output_type": "stream",
     "text": [
      "[1, 2, 3, 4]\n",
      "[1, 2, 3, 4, 5]\n"
     ]
    }
   ],
   "source": [
    "#solution 3 \n",
    "def deleteMiddle(stack, k):\n",
    "\n",
    "    if k == 1:\n",
    "        stack.pop()\n",
    "        return\n",
    "\n",
    "    removedElement = stack.pop()\n",
    "\n",
    "    deleteMiddle(stack, k - 1)\n",
    "\n",
    "    stack.append(removedElement)\n",
    "\n",
    "\n",
    "def deleteMiddleElement(stack):\n",
    "    size = len(stack)\n",
    "    mid_index = size // 2 + 1\n",
    "    deleteMiddle(stack, 1)\n",
    "\n",
    "    return stack\n",
    "\n",
    "\n",
    "stack1 = [1, 2, 3, 4, 5]\n",
    "print(deleteMiddleElement(stack1))  \n",
    "stack2 = [1, 2, 3, 4, 5, 6]\n",
    "print(deleteMiddleElement(stack2)) \n",
    "\n"
   ]
  },
  {
   "cell_type": "code",
   "execution_count": 80,
   "id": "ddb743f4",
   "metadata": {},
   "outputs": [
    {
     "name": "stdout",
     "output_type": "stream",
     "text": [
      "No\n",
      "No\n"
     ]
    }
   ],
   "source": [
    "#solution 4\n",
    "from queue import Queue\n",
    "\n",
    "\n",
    "def checkIncreasingOrder(queue):\n",
    "    stack = []\n",
    "    secondQueue = Queue()\n",
    "\n",
    "    while not queue.empty():\n",
    "        stack.append(queue.get())\n",
    "\n",
    "        while not secondQueue.empty() and secondQueue.queue[0] <= stack[-1]:\n",
    "            queue.put(secondQueue.get())\n",
    "\n",
    "        secondQueue.put(stack.pop())\n",
    "\n",
    "    \n",
    "    prev = float('-inf')\n",
    "    while not secondQueue.empty():\n",
    "        curr = secondQueue.get()\n",
    "        if curr < prev:\n",
    "            return \"No\"\n",
    "        prev = curr\n",
    "\n",
    "    return \"Yes\"\n",
    "\n",
    "\n",
    "queue1 = Queue()\n",
    "queue1.put(5)\n",
    "queue1.put(1)\n",
    "queue1.put(2)\n",
    "queue1.put(3)\n",
    "queue1.put(4)\n",
    "print(checkIncreasingOrder(queue1))\n",
    "\n",
    "queue2 = Queue()\n",
    "queue2.put(5)\n",
    "queue2.put(1)\n",
    "queue2.put(2)\n",
    "queue2.put(6)\n",
    "queue2.put(3)\n",
    "queue2.put(4)\n",
    "print(checkIncreasingOrder(queue2)) \n"
   ]
  },
  {
   "cell_type": "code",
   "execution_count": 81,
   "id": "f23c69a1",
   "metadata": {},
   "outputs": [
    {
     "name": "stdout",
     "output_type": "stream",
     "text": [
      "54321\n"
     ]
    }
   ],
   "source": [
    "#question 5\n",
    "def reverse_number(number):\n",
    "    number_str = str(number)\n",
    "    stack = []\n",
    "\n",
    "    \n",
    "    for char in number_str:\n",
    "        stack.append(char)\n",
    "\n",
    "    reversed_str = \"\"\n",
    "\n",
    "   \n",
    "    while stack:\n",
    "        reversed_str += stack.pop()\n",
    "\n",
    "    reversed_number = int(reversed_str)\n",
    "\n",
    "    return reversed_number\n",
    "\n",
    "\n",
    "\n",
    "number = 12345\n",
    "reversed_number = reverse_number(number)\n",
    "print(reversed_number) \n"
   ]
  },
  {
   "cell_type": "code",
   "execution_count": 82,
   "id": "a9b89a69",
   "metadata": {},
   "outputs": [
    {
     "name": "stdout",
     "output_type": "stream",
     "text": [
      "3 2 1 4 5 "
     ]
    }
   ],
   "source": [
    "#solution 6 \n",
    "from queue import Queue\n",
    "\n",
    "def reverse_k_elements(queue, k):\n",
    "    stack = []\n",
    "\n",
    "    for _ in range(k):\n",
    "        stack.append(queue.get())\n",
    "    while stack:\n",
    "        queue.put(stack.pop())\n",
    "\n",
    "    for _ in range(queue.qsize() - k):\n",
    "        queue.put(queue.get())\n",
    "\n",
    "    return queue\n",
    "\n",
    "\n",
    "\n",
    "queue = Queue()\n",
    "queue.put(1)\n",
    "queue.put(2)\n",
    "queue.put(3)\n",
    "queue.put(4)\n",
    "queue.put(5)\n",
    "k = 3\n",
    "\n",
    "reversed_queue = reverse_k_elements(queue, k)\n",
    "\n",
    "\n",
    "while not reversed_queue.empty():\n",
    "    print(reversed_queue.get(), end=\" \") \n"
   ]
  },
  {
   "cell_type": "code",
   "execution_count": 84,
   "id": "b5911bd2",
   "metadata": {},
   "outputs": [
    {
     "name": "stdout",
     "output_type": "stream",
     "text": [
      "0\n"
     ]
    }
   ],
   "source": [
    "#solution 7 \n",
    "def count_words_after_destruction(sequence):\n",
    "    stack = []\n",
    "\n",
    "    for word in sequence:\n",
    "        if stack and stack[-1] == word:\n",
    "            stack.pop()\n",
    "        else:\n",
    "            stack.append(word)\n",
    "\n",
    "    return len(stack)\n",
    "\n",
    "sequence = ['tom', 'jerry', 'jerry', 'tom']\n",
    "result = count_words_after_destruction(sequence)\n",
    "print(result)  \n"
   ]
  },
  {
   "cell_type": "code",
   "execution_count": 85,
   "id": "4151dab2",
   "metadata": {},
   "outputs": [
    {
     "name": "stdout",
     "output_type": "stream",
     "text": [
      "1\n"
     ]
    }
   ],
   "source": [
    "#solution 8\n",
    "def max_absolute_difference(arr):\n",
    "    n = len(arr)\n",
    "    left_smaller = [0] * n\n",
    "    right_smaller = [0] * n\n",
    "\n",
    "    stack = []\n",
    "    for i in range(n):\n",
    "        while stack and stack[-1] >= arr[i]:\n",
    "            stack.pop()\n",
    "\n",
    "        if stack:\n",
    "            left_smaller[i] = stack[-1]\n",
    "        else:\n",
    "            left_smaller[i] = 0\n",
    "\n",
    "        stack.append(arr[i])\n",
    "\n",
    "    stack.clear()\n",
    "    for i in range(n - 1, -1, -1):\n",
    "        while stack and stack[-1] >= arr[i]:\n",
    "            stack.pop()\n",
    "\n",
    "        if stack:\n",
    "            right_smaller[i] = stack[-1]\n",
    "        else:\n",
    "            right_smaller[i] = 0\n",
    "\n",
    "        stack.append(arr[i])\n",
    "\n",
    "    max_diff = 0\n",
    "    for i in range(n):\n",
    "        max_diff = max(max_diff, abs(left_smaller[i] - right_smaller[i]))\n",
    "\n",
    "    return max_diff\n",
    "\n",
    "\n",
    "\n",
    "arr = [2, 1, 8]\n",
    "result = max_absolute_difference(arr)\n",
    "print(result) \n"
   ]
  }
 ],
 "metadata": {
  "kernelspec": {
   "display_name": "Python 3 (ipykernel)",
   "language": "python",
   "name": "python3"
  },
  "language_info": {
   "codemirror_mode": {
    "name": "ipython",
    "version": 3
   },
   "file_extension": ".py",
   "mimetype": "text/x-python",
   "name": "python",
   "nbconvert_exporter": "python",
   "pygments_lexer": "ipython3",
   "version": "3.10.9"
  }
 },
 "nbformat": 4,
 "nbformat_minor": 5
}
