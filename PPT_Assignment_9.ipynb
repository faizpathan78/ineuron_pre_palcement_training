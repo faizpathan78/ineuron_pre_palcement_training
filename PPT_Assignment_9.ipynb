{
 "cells": [
  {
   "cell_type": "code",
   "execution_count": 1,
   "id": "6aadbb3c",
   "metadata": {},
   "outputs": [
    {
     "name": "stdout",
     "output_type": "stream",
     "text": [
      "True\n"
     ]
    }
   ],
   "source": [
    "#solution 1 \n",
    "def is_power_of_two(n):\n",
    "    if n <= 0:\n",
    "        return False\n",
    "\n",
    "    while n % 2 == 0:\n",
    "        n /= 2\n",
    "\n",
    "    return n == 1\n",
    "\n",
    "# Example usage\n",
    "n = 16\n",
    "result = is_power_of_two(n)\n",
    "print(result)  "
   ]
  },
  {
   "cell_type": "code",
   "execution_count": 2,
   "id": "1b86de95",
   "metadata": {},
   "outputs": [
    {
     "name": "stdout",
     "output_type": "stream",
     "text": [
      "15\n"
     ]
    }
   ],
   "source": [
    "#solution 2\n",
    "def sum_of_natural_numbers(n):\n",
    "    return n * (n + 1) // 2\n",
    "\n",
    "\n",
    "n = 5\n",
    "result = sum_of_natural_numbers(n)\n",
    "print(result)  \n"
   ]
  },
  {
   "cell_type": "code",
   "execution_count": 3,
   "id": "a56de6fc",
   "metadata": {},
   "outputs": [
    {
     "name": "stdout",
     "output_type": "stream",
     "text": [
      "120\n"
     ]
    }
   ],
   "source": [
    "#solution 3\n",
    "def factorial(n):\n",
    "    if n == 0:\n",
    "        return 1\n",
    "    else:\n",
    "        return n * factorial(n - 1)\n",
    "\n",
    "N = 5\n",
    "result = factorial(N)\n",
    "print(result) \n"
   ]
  },
  {
   "cell_type": "code",
   "execution_count": 4,
   "id": "5caa1c6c",
   "metadata": {},
   "outputs": [
    {
     "name": "stdout",
     "output_type": "stream",
     "text": [
      "25\n"
     ]
    }
   ],
   "source": [
    "#solution 4\n",
    "def power(N, P):\n",
    "    result = N ** P\n",
    "    return result\n",
    "\n",
    "N = 5\n",
    "P = 2\n",
    "result = power(N, P)\n",
    "print(result) \n"
   ]
  },
  {
   "cell_type": "code",
   "execution_count": 5,
   "id": "915b3db7",
   "metadata": {},
   "outputs": [
    {
     "name": "stdout",
     "output_type": "stream",
     "text": [
      "8\n"
     ]
    }
   ],
   "source": [
    "#solution 5\n",
    "def find_maximum(arr, n):\n",
    "    if n == 1:\n",
    "        return arr[0]\n",
    "    else:\n",
    "        max_val = find_maximum(arr, n - 1)\n",
    "        return max(max_val, arr[n - 1])\n",
    "\n",
    "arr = [1, 4, 3, -5, -4, 8, 6]\n",
    "n = len(arr)\n",
    "result = find_maximum(arr, n)\n",
    "print(result)\n"
   ]
  },
  {
   "cell_type": "code",
   "execution_count": 6,
   "id": "4b072ed5",
   "metadata": {},
   "outputs": [
    {
     "name": "stdout",
     "output_type": "stream",
     "text": [
      "6\n"
     ]
    }
   ],
   "source": [
    "#solution 6\n",
    "\n",
    "def find_nth_term(a, d, N):\n",
    "    nth_term = a + (N - 1) * d\n",
    "    return nth_term\n",
    "\n",
    "a = 2\n",
    "d = 1\n",
    "N = 5\n",
    "result = find_nth_term(a, d, N)\n",
    "print(result)\n"
   ]
  },
  {
   "cell_type": "code",
   "execution_count": 7,
   "id": "e7153c1f",
   "metadata": {},
   "outputs": [
    {
     "name": "stdout",
     "output_type": "stream",
     "text": [
      "ABC\n",
      "ACB\n",
      "BAC\n",
      "BCA\n",
      "CBA\n",
      "CAB\n"
     ]
    }
   ],
   "source": [
    "#solution 7\n",
    "def generate_permutations(string, current_index, permutations):\n",
    "    if current_index == len(string) - 1:\n",
    "        permutations.append(''.join(string))\n",
    "        return\n",
    "\n",
    "    for i in range(current_index, len(string)):\n",
    "       \n",
    "        string[current_index], string[i] = string[i], string[current_index]\n",
    "\n",
    "       \n",
    "        generate_permutations(string, current_index + 1, permutations)\n",
    "\n",
    "        \n",
    "        string[current_index], string[i] = string[i], string[current_index]\n",
    "\n",
    "\n",
    "def print_all_permutations(S):\n",
    "    string = list(S)\n",
    "    permutations = []\n",
    "    generate_permutations(string, 0, permutations)\n",
    "    for permutation in permutations:\n",
    "        print(permutation)\n",
    "\n",
    "S = \"ABC\"\n",
    "print_all_permutations(S)\n"
   ]
  },
  {
   "cell_type": "code",
   "execution_count": 8,
   "id": "f56ee567",
   "metadata": {},
   "outputs": [
    {
     "name": "stdout",
     "output_type": "stream",
     "text": [
      "120\n"
     ]
    }
   ],
   "source": [
    "#solution 8\n",
    "def product_of_array_elements(arr):\n",
    "    product = 1\n",
    "    for num in arr:\n",
    "        product *= num\n",
    "    return product\n",
    "\n",
    "\n",
    "arr = [1, 2, 3, 4, 5]\n",
    "result = product_of_array_elements(arr)\n",
    "print(result)\n"
   ]
  }
 ],
 "metadata": {
  "kernelspec": {
   "display_name": "Python 3 (ipykernel)",
   "language": "python",
   "name": "python3"
  },
  "language_info": {
   "codemirror_mode": {
    "name": "ipython",
    "version": 3
   },
   "file_extension": ".py",
   "mimetype": "text/x-python",
   "name": "python",
   "nbconvert_exporter": "python",
   "pygments_lexer": "ipython3",
   "version": "3.10.9"
  }
 },
 "nbformat": 4,
 "nbformat_minor": 5
}
