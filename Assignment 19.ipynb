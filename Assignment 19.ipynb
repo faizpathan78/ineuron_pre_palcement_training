{
 "cells": [
  {
   "cell_type": "code",
   "execution_count": 6,
   "id": "b1783fc6",
   "metadata": {},
   "outputs": [
    {
     "name": "stdout",
     "output_type": "stream",
     "text": [
      "Enter the number of linked lists: 2\n",
      "Enter space-separated values for linked list 1: 4 5 6\n",
      "Enter space-separated values for linked list 2: 1 2 3\n",
      "Merged and Sorted Linked List: [1, 2, 3, 4, 5, 6]\n"
     ]
    }
   ],
   "source": [
    "#solution  1\n",
    "import heapq\n",
    "\n",
    "import heapq\n",
    "\n",
    "class ListNode:\n",
    "    def __init__(self, val=0, next=None):\n",
    "        self.val = val\n",
    "        self.next = next\n",
    "\n",
    "def mergeKLists(lists):\n",
    "    heap = [(lst.val, lst) for lst in lists if lst]\n",
    "    heapq.heapify(heap)\n",
    "\n",
    "    dummy = ListNode(0)\n",
    "    current = dummy\n",
    "\n",
    "    while heap:\n",
    "        val, node = heapq.heappop(heap)\n",
    "        current.next = ListNode(val)\n",
    "        current = current.next\n",
    "\n",
    "        if node.next:\n",
    "            heapq.heappush(heap, (node.next.val, node.next))\n",
    "\n",
    "    return dummy.next\n",
    "\n",
    "def mergeTwoLists(l1, l2):\n",
    "    dummy = ListNode(0)\n",
    "    current = dummy\n",
    "\n",
    "    while l1 and l2:\n",
    "        if l1.val <= l2.val:\n",
    "            current.next = l1\n",
    "            l1 = l1.next\n",
    "        else:\n",
    "            current.next = l2\n",
    "            l2 = l2.next\n",
    "        current = current.next\n",
    "\n",
    "    current.next = l1 or l2\n",
    "\n",
    "    return dummy.next\n",
    "\n",
    "def mergeKSortedLists(lists):\n",
    "    if not lists:\n",
    "        return None\n",
    "\n",
    "    interval = 1\n",
    "    while interval < len(lists):\n",
    "        for i in range(0, len(lists) - interval, interval * 2):\n",
    "            lists[i] = mergeTwoLists(lists[i], lists[i + interval])\n",
    "        interval *= 2\n",
    "\n",
    "    return lists[0]\n",
    "\n",
    "def main():\n",
    "    \n",
    "    num_lists = int(input(\"Enter the number of linked lists: \"))\n",
    "    lists = []\n",
    "    for i in range(num_lists):\n",
    "        lst = list(map(int, input(f\"Enter space-separated values for linked list {i+1}: \").split()))\n",
    "        dummy = ListNode(0)\n",
    "        current = dummy\n",
    "        for val in lst:\n",
    "            current.next = ListNode(val)\n",
    "            current = current.next\n",
    "        lists.append(dummy.next)\n",
    "\n",
    "  \n",
    "    merged_list = mergeKSortedLists(lists)\n",
    "\n",
    "   \n",
    "    result = []\n",
    "    current = merged_list\n",
    "    while current:\n",
    "        result.append(current.val)\n",
    "        current = current.next\n",
    "\n",
    "    print(\"Merged and Sorted Linked List:\", result)\n",
    "\n",
    "if __name__ == \"__main__\":\n",
    "    main()\n",
    "\n"
   ]
  },
  {
   "cell_type": "code",
   "execution_count": 37,
   "id": "e8af2e5c",
   "metadata": {},
   "outputs": [
    {
     "name": "stdout",
     "output_type": "stream",
     "text": [
      "[2, 1, 1, 0]\n"
     ]
    }
   ],
   "source": [
    "#solution 2\n",
    "def countSmaller(nums):\n",
    "    def mergeSort(arr, start, end, counts):\n",
    "        if start < end:\n",
    "            mid = (start + end) // 2\n",
    "            mergeSort(arr, start, mid, counts)\n",
    "            mergeSort(arr, mid + 1, end, counts)\n",
    "            merge(arr, start, mid, end, counts)\n",
    "\n",
    "    def merge(arr, start, mid, end, counts):\n",
    "        i = start\n",
    "        j = mid + 1\n",
    "        merged = []\n",
    "        right_count = 0\n",
    "\n",
    "        while i <= mid and j <= end:\n",
    "            if arr[i][0] <= arr[j][0]:\n",
    "                counts[arr[i][1]] += right_count\n",
    "                merged.append(arr[i])\n",
    "                i += 1\n",
    "            else:\n",
    "                right_count += 1\n",
    "                merged.append(arr[j])\n",
    "                j += 1\n",
    "\n",
    "        while i <= mid:\n",
    "            counts[arr[i][1]] += right_count\n",
    "            merged.append(arr[i])\n",
    "            i += 1\n",
    "\n",
    "        while j <= end:\n",
    "            merged.append(arr[j])\n",
    "            j += 1\n",
    "\n",
    "        for k in range(start, end + 1):\n",
    "            arr[k] = merged[k - start]\n",
    "\n",
    "    n = len(nums)\n",
    "    arr = [(nums[i], i) for i in range(n)]\n",
    "    counts = [0] * n\n",
    "\n",
    "    mergeSort(arr, 0, n - 1, counts)\n",
    "\n",
    "    return counts\n",
    "\n",
    "\n",
    "nums = [5, 2, 6, 1]\n",
    "counts = countSmaller(nums)\n",
    "print(counts) \n"
   ]
  },
  {
   "cell_type": "code",
   "execution_count": 36,
   "id": "2ed8119e",
   "metadata": {},
   "outputs": [
    {
     "name": "stdout",
     "output_type": "stream",
     "text": [
      "[1, 2, 3, 5]\n"
     ]
    }
   ],
   "source": [
    "#solution 3\n",
    "def quickSort(nums):\n",
    "    def partition(nums, low, high):\n",
    "        pivot = nums[high]\n",
    "        i = low - 1\n",
    "\n",
    "        for j in range(low, high):\n",
    "            if nums[j] < pivot:\n",
    "                i += 1\n",
    "                nums[i], nums[j] = nums[j], nums[i]\n",
    "\n",
    "        nums[i + 1], nums[high] = nums[high], nums[i + 1]\n",
    "        return i + 1\n",
    "\n",
    "    def sort(nums, low, high):\n",
    "        if low < high:\n",
    "            pivot_index = partition(nums, low, high)\n",
    "            sort(nums, low, pivot_index - 1)\n",
    "            sort(nums, pivot_index + 1, high)\n",
    "\n",
    "    n = len(nums)\n",
    "    sort(nums, 0, n - 1)\n",
    "    return nums\n",
    "\n",
    "\n",
    "nums = [5, 2, 3, 1]\n",
    "sorted_nums = quickSort(nums)\n",
    "print(sorted_nums)\n"
   ]
  },
  {
   "cell_type": "code",
   "execution_count": 35,
   "id": "d8760fd0",
   "metadata": {},
   "outputs": [
    {
     "name": "stdout",
     "output_type": "stream",
     "text": [
      "1223400000\n"
     ]
    }
   ],
   "source": [
    "#solution 4\n",
    "def logic(nums):\n",
    "    string = \"\".join(str(num) for num in nums)\n",
    "    non_zeros = \"\"\n",
    "    zeros = \"\"\n",
    "\n",
    "    for char in string:\n",
    "        if char == '0':\n",
    "            zeros += char\n",
    "        else:\n",
    "            non_zeros += char\n",
    "\n",
    "    return non_zeros + zeros\n",
    "\n",
    "\n",
    "nums = [1, 0, 2, 0, 2, 3, 0, 4, 0, 0]\n",
    "result = logic(nums)\n",
    "print(result)\n",
    "\n",
    "\n"
   ]
  },
  {
   "cell_type": "code",
   "execution_count": 30,
   "id": "c6860ae3",
   "metadata": {},
   "outputs": [
    {
     "name": "stdout",
     "output_type": "stream",
     "text": [
      "[2, 0, 4, 8, -1, -2, -4, -1]\n"
     ]
    }
   ],
   "source": [
    "#solution 5 \n",
    "def rearrange(nums):\n",
    "    n = len(nums)\n",
    "    i = 0\n",
    "    j = 0\n",
    "\n",
    "    while i < n and nums[i] >= 0:\n",
    "        i += 1\n",
    "\n",
    "   \n",
    "    while i < n and j < n:\n",
    "        \n",
    "        while j < n and nums[j] < 0:\n",
    "            j += 1\n",
    "        \n",
    "       \n",
    "        if i < j and i < n:\n",
    "            nums[i], nums[j] = nums[j], nums[i]\n",
    "            i += 1\n",
    "        \n",
    "        \n",
    "        j += 1\n",
    "\n",
    "    return nums\n",
    "print(rearrange([-1,2,0,-1,4,-2,-4,8]))"
   ]
  },
  {
   "cell_type": "code",
   "execution_count": 29,
   "id": "80968f1a",
   "metadata": {},
   "outputs": [
    {
     "name": "stdout",
     "output_type": "stream",
     "text": [
      "[1, 4, 5, 6, 7, 8]\n"
     ]
    }
   ],
   "source": [
    "#solution6\n",
    "def merge_sorted_array(arr1, arr2):\n",
    "    len1 = len(arr1)\n",
    "    len2 = len(arr2)\n",
    "    merged = []\n",
    "    ptr1 = 0\n",
    "    ptr2 = 0\n",
    "\n",
    "    while ptr1 < len1 and ptr2 < len2:\n",
    "        if arr1[ptr1] <= arr2[ptr2]:\n",
    "            merged.append(arr1[ptr1])\n",
    "            ptr1 += 1\n",
    "        else:\n",
    "            merged.append(arr2[ptr2])\n",
    "            ptr2 += 1\n",
    "\n",
    "   \n",
    "    while ptr1 < len1:\n",
    "        merged.append(arr1[ptr1])\n",
    "        ptr1 += 1\n",
    "\n",
    "   \n",
    "    while ptr2 < len2:\n",
    "        merged.append(arr2[ptr2])\n",
    "        ptr2 += 1\n",
    "\n",
    "    return list(set(merged))\n",
    "print(merge_sorted_array([1,4,5,7],[5,6,7,8]))\n",
    "    "
   ]
  },
  {
   "cell_type": "code",
   "execution_count": null,
   "id": "bac3a247",
   "metadata": {},
   "outputs": [],
   "source": [
    "#solution 7\n",
    "def intersection(nums1,nums2):\n",
    "    set1 = set(nums1)\n",
    "    set2 = set(nums2)\n",
    "    return list(set1.intersection(set2))\n",
    "    \n",
    "print(intersection([4,9,5],[9,4,9,8,4]))"
   ]
  },
  {
   "cell_type": "code",
   "execution_count": 26,
   "id": "1fdf0867",
   "metadata": {},
   "outputs": [
    {
     "name": "stdout",
     "output_type": "stream",
     "text": [
      "[2, 2]\n"
     ]
    }
   ],
   "source": [
    "#solution 8\n",
    "def intersection(nums1,nums2):\n",
    "    out = []\n",
    "    for i in nums1 :\n",
    "        if i in nums2 :\n",
    "            out.append(i)\n",
    "    return out\n",
    "    \n",
    "print(intersection([1,2,2,1],[2,2]))"
   ]
  }
 ],
 "metadata": {
  "kernelspec": {
   "display_name": "Python 3 (ipykernel)",
   "language": "python",
   "name": "python3"
  },
  "language_info": {
   "codemirror_mode": {
    "name": "ipython",
    "version": 3
   },
   "file_extension": ".py",
   "mimetype": "text/x-python",
   "name": "python",
   "nbconvert_exporter": "python",
   "pygments_lexer": "ipython3",
   "version": "3.10.9"
  }
 },
 "nbformat": 4,
 "nbformat_minor": 5
}
