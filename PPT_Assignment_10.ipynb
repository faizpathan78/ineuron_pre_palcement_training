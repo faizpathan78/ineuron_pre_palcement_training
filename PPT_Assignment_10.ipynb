{
 "cells": [
  {
   "cell_type": "code",
   "execution_count": 1,
   "id": "4b5bb777",
   "metadata": {},
   "outputs": [
    {
     "name": "stdout",
     "output_type": "stream",
     "text": [
      "True\n",
      "True\n",
      "False\n"
     ]
    }
   ],
   "source": [
    "#solution 1 \n",
    "def is_power_of_three(n):\n",
    "    if n <= 0:\n",
    "        return False\n",
    "    while n > 1:\n",
    "        if n % 3 != 0:\n",
    "            return False\n",
    "        n = n // 3\n",
    "    return True\n",
    "\n",
    "print(is_power_of_three(27)) \n",
    "print(is_power_of_three(9))  \n",
    "print(is_power_of_three(45)) \n"
   ]
  },
  {
   "cell_type": "code",
   "execution_count": 2,
   "id": "ab76fe51",
   "metadata": {},
   "outputs": [
    {
     "name": "stdout",
     "output_type": "stream",
     "text": [
      "6\n",
      "4\n",
      "6\n"
     ]
    }
   ],
   "source": [
    "#solution 2\n",
    "def last_remaining(n):\n",
    "    left_to_right = True\n",
    "    remaining = n\n",
    "    step = 1\n",
    "    start = 1\n",
    "\n",
    "    while remaining > 1:\n",
    "        if left_to_right or remaining % 2 == 1:\n",
    "            start += step\n",
    "        step *= 2\n",
    "        left_to_right = not left_to_right\n",
    "        remaining //= 2\n",
    "\n",
    "    return start\n",
    "print(last_remaining(9))\n",
    "print(last_remaining(7))  \n",
    "print(last_remaining(20)) \n"
   ]
  },
  {
   "cell_type": "code",
   "execution_count": 3,
   "id": "6fc30ee6",
   "metadata": {},
   "outputs": [
    {
     "name": "stdout",
     "output_type": "stream",
     "text": [
      "abc\n",
      "ab\n",
      "ac\n",
      "a\n",
      "bc\n",
      "b\n",
      "c\n",
      "\n",
      "abcd\n",
      "abc\n",
      "abd\n",
      "ab\n",
      "acd\n",
      "ac\n",
      "ad\n",
      "a\n",
      "bcd\n",
      "bc\n",
      "bd\n",
      "b\n",
      "cd\n",
      "c\n",
      "d\n",
      "\n"
     ]
    }
   ],
   "source": [
    "#solution 3\n",
    "def print_subsets(s, current_subset, index):\n",
    "    if index == len(s):\n",
    "        print(current_subset)\n",
    "        return\n",
    "\n",
    "  \n",
    "    print_subsets(s, current_subset + s[index], index + 1)\n",
    "\n",
    "   \n",
    "    print_subsets(s, current_subset, index + 1)\n",
    "\n",
    "\n",
    "def generate_subsets(s):\n",
    "    print_subsets(s, \"\", 0)\n",
    "\n",
    "\n",
    "# Example usage\n",
    "generate_subsets(\"abc\")   \n",
    "generate_subsets(\"abcd\")  \n"
   ]
  },
  {
   "cell_type": "code",
   "execution_count": 4,
   "id": "b4215675",
   "metadata": {},
   "outputs": [
    {
     "name": "stdout",
     "output_type": "stream",
     "text": [
      "4\n",
      "13\n"
     ]
    }
   ],
   "source": [
    "#solution 4\n",
    "def calculate_length(s):\n",
    "    if s == '':\n",
    "        return 0\n",
    "    else:\n",
    "        return 1 + calculate_length(s[1:])\n",
    "\n",
    "\n",
    "# Example usage\n",
    "print(calculate_length(\"abcd\"))          \n",
    "print(calculate_length(\"GEEKSFORGEEKS\"))  "
   ]
  },
  {
   "cell_type": "code",
   "execution_count": 5,
   "id": "2ebfa8ac",
   "metadata": {},
   "outputs": [
    {
     "name": "stdout",
     "output_type": "stream",
     "text": [
      "5\n",
      "3\n"
     ]
    }
   ],
   "source": [
    "#solution 5\n",
    "def countSubstrings(s):\n",
    "    if len(s) <= 1:\n",
    "        return len(s)\n",
    "    \n",
    "    count = len(s)  \n",
    "    \n",
    "    \n",
    "    for i in range(len(s)):\n",
    "        j = i + 1\n",
    "        while j < len(s):\n",
    "            if s[i] == s[j]:\n",
    "                count += 1\n",
    "                j += 1\n",
    "            else:\n",
    "                break\n",
    "    \n",
    "    return count\n",
    "\n",
    "\n",
    "# Example usage\n",
    "print(countSubstrings(\"abcab\")) \n",
    "print(countSubstrings(\"aba\"))   \n"
   ]
  },
  {
   "cell_type": "code",
   "execution_count": 6,
   "id": "897fb280",
   "metadata": {},
   "outputs": [
    {
     "name": "stdout",
     "output_type": "stream",
     "text": [
      "move disk 1 from rod 1 to rod 2\n",
      "move disk 2 from rod 1 to rod 3\n",
      "move disk 1 from rod 2 to rod 3\n",
      "3\n",
      "move disk 1 from rod 1 to rod 3\n",
      "move disk 2 from rod 1 to rod 2\n",
      "move disk 1 from rod 3 to rod 2\n",
      "move disk 3 from rod 1 to rod 3\n",
      "move disk 1 from rod 2 to rod 1\n",
      "move disk 2 from rod 2 to rod 3\n",
      "move disk 1 from rod 1 to rod 3\n",
      "7\n"
     ]
    }
   ],
   "source": [
    "#solution 6\n",
    "\n",
    "def towerOfHanoi(n, source, destination, auxiliary):\n",
    "    if n == 1:\n",
    "        print(\"move disk 1 from rod\", source, \"to rod\", destination)\n",
    "        return 1\n",
    "    \n",
    "    moves = 0\n",
    "    \n",
    "   \n",
    "    moves += towerOfHanoi(n-1, source, auxiliary, destination)\n",
    "    \n",
    "   \n",
    "    print(\"move disk\", n, \"from rod\", source, \"to rod\", destination)\n",
    "    moves += 1\n",
    "    \n",
    "    \n",
    "    moves += towerOfHanoi(n-1, auxiliary, destination, source)\n",
    "    \n",
    "    return moves\n",
    "\n",
    "\n",
    "\n",
    "N = 2\n",
    "total_moves = towerOfHanoi(N, 1, 3, 2)\n",
    "print(total_moves)\n",
    "\n",
    "N = 3\n",
    "total_moves = towerOfHanoi(N, 1, 3, 2)\n",
    "print(total_moves)\n"
   ]
  },
  {
   "cell_type": "code",
   "execution_count": 7,
   "id": "c9c7a98b",
   "metadata": {},
   "outputs": [
    {
     "name": "stdout",
     "output_type": "stream",
     "text": [
      "cd\n",
      "dc\n",
      "abb\n",
      "abb\n",
      "bab\n",
      "bba\n",
      "bba\n",
      "bab\n"
     ]
    }
   ],
   "source": [
    "#solution 7\n",
    "def permute(s, l, r):\n",
    "    if l == r:\n",
    "        print(\"\".join(s))\n",
    "    else:\n",
    "        for i in range(l, r + 1):\n",
    "            s[l], s[i] = s[i], s[l]  \n",
    "            permute(s, l + 1, r)    \n",
    "            s[l], s[i] = s[i], s[l] \n",
    "\n",
    "str = \"cd\"\n",
    "n = len(str)\n",
    "permute(list(str), 0, n - 1)\n",
    "\n",
    "str = \"abb\"\n",
    "n = len(str)\n",
    "permute(list(str), 0, n - 1)\n"
   ]
  },
  {
   "cell_type": "code",
   "execution_count": 8,
   "id": "25247263",
   "metadata": {},
   "outputs": [
    {
     "name": "stdout",
     "output_type": "stream",
     "text": [
      "3\n",
      "12\n"
     ]
    }
   ],
   "source": [
    "#solution 8\n",
    "def count_consonants(string):\n",
    "    consonants = \"bcdfghjklmnpqrstvwxyzBCDFGHJKLMNPQRSTVWXYZ\"\n",
    "    count = 0\n",
    "    for char in string:\n",
    "        if char in consonants:\n",
    "            count += 1\n",
    "    return count\n",
    "\n",
    "string = \"abc de\"\n",
    "print(count_consonants(string))\n",
    "\n",
    "string = \"geeksforgeeks portal\"\n",
    "print(count_consonants(string))\n"
   ]
  }
 ],
 "metadata": {
  "kernelspec": {
   "display_name": "Python 3 (ipykernel)",
   "language": "python",
   "name": "python3"
  },
  "language_info": {
   "codemirror_mode": {
    "name": "ipython",
    "version": 3
   },
   "file_extension": ".py",
   "mimetype": "text/x-python",
   "name": "python",
   "nbconvert_exporter": "python",
   "pygments_lexer": "ipython3",
   "version": "3.10.9"
  }
 },
 "nbformat": 4,
 "nbformat_minor": 5
}
