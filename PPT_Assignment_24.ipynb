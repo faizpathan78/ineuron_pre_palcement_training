{
 "cells": [
  {
   "cell_type": "code",
   "execution_count": 9,
   "id": "8d1c4ba2",
   "metadata": {},
   "outputs": [
    {
     "name": "stdout",
     "output_type": "stream",
     "text": [
      "The integer value of LVIII is: 58\n"
     ]
    }
   ],
   "source": [
    "#solution 1 \n",
    "def roman_to_int(s):\n",
    "    roman_values = {'I': 1, 'V': 5, 'X': 10, 'L': 50, 'C': 100, 'D': 500, 'M': 1000}\n",
    "    result = 0\n",
    "    prev_value = 0\n",
    "    \n",
    "    for c in reversed(s):\n",
    "        value = roman_values[c]\n",
    "        \n",
    "        if value < prev_value:\n",
    "            result -= value\n",
    "        else:\n",
    "            result += value\n",
    "            \n",
    "        prev_value = value\n",
    "    \n",
    "    return result\n",
    "\n",
    "\n",
    "# Example usage\n",
    "roman_numeral = \"LVIII\"\n",
    "integer_value = roman_to_int(roman_numeral)\n",
    "print(f\"The integer value of {roman_numeral} is: {integer_value}\")\n"
   ]
  },
  {
   "cell_type": "code",
   "execution_count": 10,
   "id": "d57d1720",
   "metadata": {},
   "outputs": [
    {
     "name": "stdout",
     "output_type": "stream",
     "text": [
      "The length of the longest substring without repeating characters: 3\n"
     ]
    }
   ],
   "source": [
    "#solution 2\n",
    "def length_of_longest_substring(s):\n",
    "    char_set = set()\n",
    "    left = 0\n",
    "    max_length = 0\n",
    "    \n",
    "    for right in range(len(s)):\n",
    "        while s[right] in char_set:\n",
    "            char_set.remove(s[left])\n",
    "            left += 1\n",
    "            \n",
    "        char_set.add(s[right])\n",
    "        max_length = max(max_length, right - left + 1)\n",
    "    \n",
    "    return max_length\n",
    "string = \"abcabcbb\"\n",
    "length = length_of_longest_substring(string)\n",
    "print(f\"The length of the longest substring without repeating characters: {length}\")\n"
   ]
  },
  {
   "cell_type": "code",
   "execution_count": 11,
   "id": "c1b9ef49",
   "metadata": {},
   "outputs": [
    {
     "name": "stdout",
     "output_type": "stream",
     "text": [
      "The majority element is: 3\n"
     ]
    }
   ],
   "source": [
    "#solution 3\n",
    "def majority_element(nums):\n",
    "    count = 0\n",
    "    candidate = None\n",
    "    \n",
    "    for num in nums:\n",
    "        if count == 0:\n",
    "            candidate = num\n",
    "        count += 1 if num == candidate else -1\n",
    "    \n",
    "    return candidate\n",
    "nums = [3, 2, 3]\n",
    "majority = majority_element(nums)\n",
    "print(f\"The majority element is: {majority}\")\n"
   ]
  },
  {
   "cell_type": "code",
   "execution_count": 12,
   "id": "d3109f16",
   "metadata": {},
   "outputs": [
    {
     "name": "stdout",
     "output_type": "stream",
     "text": [
      "[['eat', 'tea', 'ate'], ['tan', 'nat'], ['bat']]\n"
     ]
    }
   ],
   "source": [
    "#solution 4\n",
    "from collections import defaultdict\n",
    "\n",
    "def group_anagrams(strs):\n",
    "    groups = defaultdict(list)\n",
    "    \n",
    "    for word in strs:\n",
    "        sorted_word = \"\".join(sorted(word))\n",
    "        groups[sorted_word].append(word)\n",
    "    \n",
    "    return list(groups.values())\n",
    "strs = [\"eat\", \"tea\", \"tan\", \"ate\", \"nat\", \"bat\"]\n",
    "anagram_groups = group_anagrams(strs)\n",
    "print(anagram_groups)\n"
   ]
  },
  {
   "cell_type": "code",
   "execution_count": 13,
   "id": "e5f03dd4",
   "metadata": {},
   "outputs": [
    {
     "name": "stdout",
     "output_type": "stream",
     "text": [
      "12\n"
     ]
    }
   ],
   "source": [
    "#solution 5\n",
    "def nth_ugly_number(n):\n",
    "    ugly_nums = [1]\n",
    "    i2 = i3 = i5 = 0\n",
    "\n",
    "    for _ in range(1, n):\n",
    "        next_ugly_num = min(ugly_nums[i2] * 2, ugly_nums[i3] * 3, ugly_nums[i5] * 5)\n",
    "        ugly_nums.append(next_ugly_num)\n",
    "\n",
    "        if next_ugly_num == ugly_nums[i2] * 2:\n",
    "            i2 += 1\n",
    "        if next_ugly_num == ugly_nums[i3] * 3:\n",
    "            i3 += 1\n",
    "        if next_ugly_num == ugly_nums[i5] * 5:\n",
    "            i5 += 1\n",
    "\n",
    "    return ugly_nums[-1]\n",
    "n = 10\n",
    "result = nth_ugly_number(n)\n",
    "print(result)\n"
   ]
  },
  {
   "cell_type": "code",
   "execution_count": 14,
   "id": "1be9c59a",
   "metadata": {},
   "outputs": [
    {
     "name": "stdout",
     "output_type": "stream",
     "text": [
      "['love', 'i']\n"
     ]
    }
   ],
   "source": [
    "#solution 6\n",
    "from collections import Counter\n",
    "import heapq\n",
    "\n",
    "\n",
    "def topKFrequentWords(words, k):\n",
    "   \n",
    "    word_count = Counter(words)\n",
    "    def compare(word1, word2):\n",
    "        if word_count[word1] == word_count[word2]:\n",
    "            return word2 < word1 \n",
    "        return word_count[word1] - word_count[word2] \n",
    "    pq = []\n",
    "    for word in word_count:\n",
    "        heapq.heappush(pq, (word_count[word], word))\n",
    "        if len(pq) > k:\n",
    "            heapq.heappop(pq)\n",
    "    result = []\n",
    "    while pq:\n",
    "        result.append(heapq.heappop(pq)[1])\n",
    "    result.reverse()\n",
    "\n",
    "    return result\n",
    "\n",
    "words = [\"i\", \"love\", \"leetcode\", \"i\", \"love\", \"coding\"]\n",
    "k = 2\n",
    "result = topKFrequentWords(words, k)\n",
    "print(result)\n"
   ]
  },
  {
   "cell_type": "code",
   "execution_count": 15,
   "id": "90e836ef",
   "metadata": {},
   "outputs": [
    {
     "name": "stdout",
     "output_type": "stream",
     "text": [
      "[3, 3, 5, 5, 6, 7]\n"
     ]
    }
   ],
   "source": [
    "#solution 7\n",
    "from collections import deque\n",
    "\n",
    "def maxSlidingWindow(nums, k):\n",
    "    result = []\n",
    "    window = deque()\n",
    "\n",
    "    for i in range(len(nums)):\n",
    "        while window and window[0] <= i - k:\n",
    "            window.popleft()\n",
    "\n",
    "        while window and nums[window[-1]] < nums[i]:\n",
    "            window.pop()\n",
    "\n",
    "        window.append(i)\n",
    "\n",
    "        if i >= k - 1:\n",
    "            result.append(nums[window[0]])\n",
    "\n",
    "    return result\n",
    "\n",
    "nums = [1, 3, -1, -3, 5, 3, 6, 7]\n",
    "k = 3\n",
    "result = maxSlidingWindow(nums, k)\n",
    "print(result)\n"
   ]
  },
  {
   "cell_type": "code",
   "execution_count": 16,
   "id": "adb06495",
   "metadata": {},
   "outputs": [
    {
     "name": "stdout",
     "output_type": "stream",
     "text": [
      "[1, 2, 3, 4]\n"
     ]
    }
   ],
   "source": [
    "#solution 8\n",
    "def find_closest_elements(arr, k, x):\n",
    "    left = 0\n",
    "    right = len(arr) - k\n",
    "\n",
    "    while left < right:\n",
    "        mid = (left + right) // 2\n",
    "        if x - arr[mid] > arr[mid + k] - x:\n",
    "            left = mid + 1\n",
    "        else:\n",
    "            right = mid\n",
    "\n",
    "    return arr[left:left + k]\n",
    "\n",
    "arr = [1, 2, 3, 4, 5]\n",
    "k = 4\n",
    "x = 3\n",
    "result = find_closest_elements(arr, k, x)\n",
    "print(result)\n"
   ]
  }
 ],
 "metadata": {
  "kernelspec": {
   "display_name": "Python 3 (ipykernel)",
   "language": "python",
   "name": "python3"
  },
  "language_info": {
   "codemirror_mode": {
    "name": "ipython",
    "version": 3
   },
   "file_extension": ".py",
   "mimetype": "text/x-python",
   "name": "python",
   "nbconvert_exporter": "python",
   "pygments_lexer": "ipython3",
   "version": "3.10.9"
  }
 },
 "nbformat": 4,
 "nbformat_minor": 5
}
