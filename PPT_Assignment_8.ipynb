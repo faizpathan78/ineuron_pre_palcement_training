{
 "cells": [
  {
   "cell_type": "code",
   "execution_count": 13,
   "id": "20463400",
   "metadata": {},
   "outputs": [
    {
     "name": "stdout",
     "output_type": "stream",
     "text": [
      "231\n"
     ]
    }
   ],
   "source": [
    "#solution 1 \n",
    "def minimum_delete_sum(s1, s2):\n",
    "    m, n = len(s1), len(s2)\n",
    "    dp = [[0] * (n + 1) for _ in range(m + 1)]\n",
    "\n",
    "    \n",
    "    for i in range(1, m + 1):\n",
    "        dp[i][0] = dp[i - 1][0] + ord(s1[i - 1])\n",
    "\n",
    "    for j in range(1, n + 1):\n",
    "        dp[0][j] = dp[0][j - 1] + ord(s2[j - 1])\n",
    "\n",
    "   \n",
    "    for i in range(1, m + 1):\n",
    "        for j in range(1, n + 1):\n",
    "            if s1[i - 1] == s2[j - 1]:\n",
    "                dp[i][j] = dp[i - 1][j - 1]\n",
    "            else:\n",
    "                dp[i][j] = min(dp[i - 1][j] + ord(s1[i - 1]), dp[i][j - 1] + ord(s2[j - 1]))\n",
    "\n",
    "    return dp[m][n]\n",
    "\n",
    "s1 = \"sea\"\n",
    "s2 = \"eat\"\n",
    "print(minimum_delete_sum(s1, s2)) \n",
    "\n"
   ]
  },
  {
   "cell_type": "code",
   "execution_count": 14,
   "id": "eb869562",
   "metadata": {},
   "outputs": [
    {
     "name": "stdout",
     "output_type": "stream",
     "text": [
      "True\n"
     ]
    }
   ],
   "source": [
    "#solution 2\n",
    "def check_valid_string(s):\n",
    "    min_open = max_open = 0\n",
    "\n",
    "    for char in s:\n",
    "        if char == '(':\n",
    "            min_open += 1\n",
    "            max_open += 1\n",
    "        elif char == ')':\n",
    "            min_open = max(min_open - 1, 0)\n",
    "            max_open -= 1\n",
    "        elif char == '*':\n",
    "            min_open = max(min_open - 1, 0)\n",
    "            max_open += 1\n",
    "\n",
    "        if max_open < 0:\n",
    "            return False\n",
    "\n",
    "    return min_open == 0\n",
    "\n",
    "s = \"()\"\n",
    "print(check_valid_string(s)) \n",
    "\n"
   ]
  },
  {
   "cell_type": "code",
   "execution_count": 15,
   "id": "73e04af0",
   "metadata": {},
   "outputs": [
    {
     "name": "stdout",
     "output_type": "stream",
     "text": [
      "2\n"
     ]
    }
   ],
   "source": [
    "#solution 3\n",
    "def min_steps_to_same(word1, word2):\n",
    "    m = len(word1)\n",
    "    n = len(word2)\n",
    "\n",
    "    \n",
    "    dp = [[0] * (n + 1) for _ in range(m + 1)]\n",
    "\n",
    "    \n",
    "    for i in range(m + 1):\n",
    "        dp[i][0] = i\n",
    "    for j in range(n + 1):\n",
    "        dp[0][j] = j\n",
    "\n",
    "   \n",
    "    for i in range(1, m + 1):\n",
    "        for j in range(1, n + 1):\n",
    "            if word1[i - 1] == word2[j - 1]:\n",
    "                dp[i][j] = dp[i - 1][j - 1]\n",
    "            else:\n",
    "                dp[i][j] = 1 + min(dp[i - 1][j], dp[i][j - 1])\n",
    "\n",
    "    return dp[m][n]\n",
    "\n",
    "word1 = \"sea\"\n",
    "word2 = \"eat\"\n",
    "print(min_steps_to_same(word1, word2)) \n",
    "\n"
   ]
  },
  {
   "cell_type": "code",
   "execution_count": 16,
   "id": "cd103d4e",
   "metadata": {},
   "outputs": [
    {
     "name": "stdout",
     "output_type": "stream",
     "text": [
      "[3, 2, 1, 4, 5, 6]\n"
     ]
    }
   ],
   "source": [
    "#solution 4\n",
    "class TreeNode:\n",
    "    def __init__(self, val=0, left=None, right=None):\n",
    "        self.val = val\n",
    "        self.left = left\n",
    "        self.right = right\n",
    "\n",
    "def str2tree(s):\n",
    "    if not s:\n",
    "        return None\n",
    "\n",
    "    \n",
    "    i = 0\n",
    "    while i < len(s) and (s[i].isdigit() or s[i] == '-'):\n",
    "        i += 1\n",
    "    root_val = int(s[:i])\n",
    "    root = TreeNode(root_val)\n",
    "\n",
    "    \n",
    "    count = 0\n",
    "    j = i\n",
    "    while j < len(s):\n",
    "        if s[j] == '(':\n",
    "            count += 1\n",
    "        elif s[j] == ')':\n",
    "            count -= 1\n",
    "        if count == 0:\n",
    "            break\n",
    "        j += 1\n",
    "\n",
    "    \n",
    "    root.left = str2tree(s[i+1:j])\n",
    "    root.right = str2tree(s[j+2:len(s)-1])\n",
    "\n",
    "    return root\n",
    "\n",
    "def inorder_traversal(root):\n",
    "    result = []\n",
    "    if root:\n",
    "        result += inorder_traversal(root.left)\n",
    "        result.append(root.val)\n",
    "        result += inorder_traversal(root.right)\n",
    "    return result\n",
    "\n",
    "\n",
    "s = \"4(2(3)(1))(6(5))\"\n",
    "root = str2tree(s)\n",
    "inorder = inorder_traversal(root)\n",
    "print(inorder) \n"
   ]
  },
  {
   "cell_type": "code",
   "execution_count": 17,
   "id": "f6de19ca",
   "metadata": {},
   "outputs": [
    {
     "name": "stdout",
     "output_type": "stream",
     "text": [
      "6\n",
      "['a', '2', 'b', '2', 'c', '3']\n"
     ]
    }
   ],
   "source": [
    "#solution 5\n",
    "def compress(chars):\n",
    "    readPtr = 0\n",
    "    writePtr = 0\n",
    "    count = 1\n",
    "\n",
    "    for i in range(1, len(chars) + 1):\n",
    "        if i < len(chars) and chars[i] == chars[i - 1]:\n",
    "            count += 1\n",
    "        else:\n",
    "            chars[writePtr] = chars[readPtr]\n",
    "            writePtr += 1\n",
    "            if count > 1:\n",
    "                countStr = str(count)\n",
    "                for j in range(len(countStr)):\n",
    "                    chars[writePtr] = countStr[j]\n",
    "                    writePtr += 1\n",
    "            readPtr = i\n",
    "            count = 1\n",
    "\n",
    "    return writePtr\n",
    "\n",
    "\n",
    "chars = [\"a\",\"a\",\"b\",\"b\",\"c\",\"c\",\"c\"]\n",
    "newLength = compress(chars)\n",
    "compressedChars = chars[:newLength]\n",
    "print(newLength)        \n",
    "print(compressedChars)   \n",
    "\n"
   ]
  },
  {
   "cell_type": "code",
   "execution_count": 18,
   "id": "5fd7faed",
   "metadata": {},
   "outputs": [
    {
     "name": "stdout",
     "output_type": "stream",
     "text": [
      "[0, 6]\n"
     ]
    }
   ],
   "source": [
    "#solution 6\n",
    "\n",
    "from collections import Counter\n",
    "\n",
    "def findAnagrams(s, p):\n",
    "    indices = []\n",
    "    p_count = Counter(p)\n",
    "    window_count = Counter(s[:len(p)])\n",
    "\n",
    "    if window_count == p_count:\n",
    "        indices.append(0)\n",
    "\n",
    "    for i in range(len(p), len(s)):\n",
    "        window_count[s[i]] += 1\n",
    "        window_count[s[i - len(p)]] -= 1\n",
    "\n",
    "        if window_count[s[i - len(p)]] == 0:\n",
    "            del window_count[s[i - len(p)]]\n",
    "\n",
    "        if window_count == p_count:\n",
    "            indices.append(i - len(p) + 1)\n",
    "\n",
    "    return indices\n",
    "\n",
    "\n",
    "s = \"cbaebabacd\"\n",
    "p = \"abc\"\n",
    "result = findAnagrams(s, p)\n",
    "print(result) \n"
   ]
  },
  {
   "cell_type": "code",
   "execution_count": 19,
   "id": "25470a8a",
   "metadata": {},
   "outputs": [
    {
     "name": "stdout",
     "output_type": "stream",
     "text": [
      "aaabcbc\n"
     ]
    }
   ],
   "source": [
    "#solution 7\n",
    "def decodeString(s):\n",
    "    stack = []\n",
    "    current_string = \"\"\n",
    "    current_number = 0\n",
    "\n",
    "    for char in s:\n",
    "        if char.isdigit():\n",
    "            current_number = current_number * 10 + int(char)\n",
    "        elif char == \"[\":\n",
    "            stack.append(current_string)\n",
    "            stack.append(current_number)\n",
    "            current_string = \"\"\n",
    "            current_number = 0\n",
    "        elif char == \"]\":\n",
    "            number = stack.pop()\n",
    "            previous_string = stack.pop()\n",
    "            current_string = previous_string + number * current_string\n",
    "        else:\n",
    "            current_string += char\n",
    "\n",
    "    return current_string\n",
    "\n",
    "\n",
    "s = \"3[a]2[bc]\"\n",
    "result = decodeString(s)\n",
    "print(result)  \n"
   ]
  },
  {
   "cell_type": "code",
   "execution_count": 20,
   "id": "33849637",
   "metadata": {},
   "outputs": [
    {
     "name": "stdout",
     "output_type": "stream",
     "text": [
      "False\n"
     ]
    }
   ],
   "source": [
    "#solution 8\n",
    "def can_convert_string(s, goal):\n",
    "    if len(s) != len(goal):\n",
    "        return False\n",
    "\n",
    "    differences = {}\n",
    "    for i in range(len(s)):\n",
    "        diff = (ord(goal[i]) - ord(s[i]) + 26) % 26\n",
    "        if diff > 0:\n",
    "            if diff in differences:\n",
    "                differences[diff] -= 1\n",
    "            else:\n",
    "                differences[diff] = 25\n",
    "\n",
    "    return sum(differences.values()) == 0\n",
    "\n",
    "# Example usage\n",
    "s = \"ab\"\n",
    "goal = \"ba\"\n",
    "result = can_convert_string(s, goal)\n",
    "print(result)  # Output: True\n"
   ]
  }
 ],
 "metadata": {
  "kernelspec": {
   "display_name": "Python 3 (ipykernel)",
   "language": "python",
   "name": "python3"
  },
  "language_info": {
   "codemirror_mode": {
    "name": "ipython",
    "version": 3
   },
   "file_extension": ".py",
   "mimetype": "text/x-python",
   "name": "python",
   "nbconvert_exporter": "python",
   "pygments_lexer": "ipython3",
   "version": "3.10.9"
  }
 },
 "nbformat": 4,
 "nbformat_minor": 5
}
