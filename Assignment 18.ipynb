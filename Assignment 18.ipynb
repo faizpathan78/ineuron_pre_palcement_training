{
 "cells": [
  {
   "cell_type": "code",
   "execution_count": 51,
   "id": "057ec7ac",
   "metadata": {},
   "outputs": [
    {
     "name": "stdout",
     "output_type": "stream",
     "text": [
      "[[1, 6], [8, 10], [15, 18]]\n"
     ]
    }
   ],
   "source": [
    "#solution 1\n",
    "def merge_intervals(intervals):\n",
    "    sorted_intervals = sorted(intervals, key=lambda x: x[0])\n",
    "    merged = []\n",
    "\n",
    "    for interval in sorted_intervals:\n",
    "        if not merged or interval[0] > merged[-1][1]:\n",
    "            merged.append(interval)\n",
    "        else:\n",
    "            merged[-1][1] = max(merged[-1][1], interval[1])\n",
    "\n",
    "    return merged\n",
    "\n",
    "\n",
    "intervals = [[1,3],[2,6],[8,10],[15,18]]\n",
    "merged_intervals = merge_intervals(intervals)\n",
    "print(merged_intervals)  \n",
    "\n"
   ]
  },
  {
   "cell_type": "code",
   "execution_count": 41,
   "id": "d4323152",
   "metadata": {},
   "outputs": [
    {
     "name": "stdout",
     "output_type": "stream",
     "text": [
      "[0, 0, 1, 1, 2, 2]\n"
     ]
    }
   ],
   "source": [
    "#solution 2\n",
    "def sort_colors(nums):\n",
    "    left = 0 \n",
    "    right = len(nums) - 1 \n",
    "    curr = 0 \n",
    "\n",
    "    while curr <= right:\n",
    "        if nums[curr] == 0:\n",
    "            nums[left], nums[curr] = nums[curr], nums[left]\n",
    "            left += 1\n",
    "            curr += 1\n",
    "        elif nums[curr] == 2:\n",
    "            nums[right], nums[curr] = nums[curr], nums[right]\n",
    "            right -= 1\n",
    "        else: \n",
    "            curr += 1\n",
    "\n",
    "nums = [2, 0, 2, 1, 1, 0]\n",
    "sort_colors(nums)\n",
    "print(nums)  \n"
   ]
  },
  {
   "cell_type": "code",
   "execution_count": 43,
   "id": "7fa92c98",
   "metadata": {},
   "outputs": [
    {
     "name": "stdout",
     "output_type": "stream",
     "text": [
      "1\n"
     ]
    }
   ],
   "source": [
    "#solution 3\n",
    "def bad_version(n):\n",
    "    left = 1\n",
    "    right = n\n",
    "\n",
    "    while left < right:\n",
    "        mid = left + (right - left) // 2\n",
    "        if bad_version(mid):\n",
    "            right = mid\n",
    "        else:\n",
    "            left = mid + 1\n",
    "\n",
    "    return left\n",
    "\n",
    "\n",
    "n = 5\n",
    "first_bad = bad_version(n)\n",
    "print(first_bad)\n"
   ]
  },
  {
   "cell_type": "code",
   "execution_count": 50,
   "id": "3a7e8aee",
   "metadata": {},
   "outputs": [
    {
     "name": "stdout",
     "output_type": "stream",
     "text": [
      "3\n"
     ]
    }
   ],
   "source": [
    "#solution 4\n",
    "def max_gap(nums):\n",
    "    if len(nums) < 2:\n",
    "        return 0\n",
    "\n",
    "    max_value = max(nums)\n",
    "    exp = 1\n",
    "    n = len(nums)\n",
    "    sorted_nums = [0] * n\n",
    "\n",
    "    while max_value // exp > 0:\n",
    "        count = [0] * 10\n",
    "\n",
    "        for num in nums:\n",
    "            digit = (num // exp) % 10\n",
    "            count[digit] += 1\n",
    "\n",
    "        for i in range(1, 10):\n",
    "            count[i] += count[i - 1]\n",
    "\n",
    "        for i in range(n - 1, -1, -1):\n",
    "            digit = (nums[i] // exp) % 10\n",
    "            count[digit] -= 1\n",
    "            sorted_nums[count[digit]] = nums[i]\n",
    "\n",
    "        nums = sorted_nums.copy()\n",
    "        exp *= 10\n",
    "\n",
    "  \n",
    "    max_gap = 0\n",
    "    for i in range(1, n):\n",
    "        max_gap = max(max_gap, nums[i] - nums[i - 1])\n",
    "\n",
    "    return max_gap\n",
    "\n",
    "\n",
    "nums = [3, 6, 9, 1]\n",
    "max_gap = max_gap(nums)\n",
    "print(max_gap)  \n"
   ]
  },
  {
   "cell_type": "code",
   "execution_count": 45,
   "id": "f95cc3d6",
   "metadata": {},
   "outputs": [
    {
     "name": "stdout",
     "output_type": "stream",
     "text": [
      "True\n"
     ]
    }
   ],
   "source": [
    "#solution 5\n",
    "def duplicate(nums):\n",
    "    num_set = set()\n",
    "\n",
    "    for num in nums:\n",
    "        if num in num_set:\n",
    "            return True\n",
    "        else:\n",
    "            num_set.add(num)\n",
    "\n",
    "    return False\n",
    "\n",
    "\n",
    "nums = [1, 2, 3, 1]\n",
    "result = duplicate(nums)\n",
    "print(result)  \n"
   ]
  },
  {
   "cell_type": "code",
   "execution_count": 49,
   "id": "5efb6cad",
   "metadata": {},
   "outputs": [
    {
     "name": "stdout",
     "output_type": "stream",
     "text": [
      "2\n"
     ]
    }
   ],
   "source": [
    "#solution 6\n",
    "def min_arrow_shots(points):\n",
    "    if not points:\n",
    "        return 0\n",
    "\n",
    "    points.sort(key=lambda x: x[1])\n",
    "\n",
    "    arrows = 1\n",
    "    end = points[0][1]\n",
    "\n",
    "    for i in range(1, len(points)):\n",
    "        if points[i][0] > end:\n",
    "            arrows += 1\n",
    "            end = points[i][1]\n",
    "\n",
    "    return arrows\n",
    "\n",
    "points = [[10, 16], [2, 8], [1, 6], [7, 12]]\n",
    "min_arrows = min_arrow_shots(points)\n",
    "print(min_arrows)  "
   ]
  },
  {
   "cell_type": "code",
   "execution_count": 48,
   "id": "7f7d53ce",
   "metadata": {},
   "outputs": [
    {
     "name": "stdout",
     "output_type": "stream",
     "text": [
      "4\n"
     ]
    }
   ],
   "source": [
    "#solution 7\n",
    "def lenth_of_lis(nums):\n",
    "    if not nums:\n",
    "        return 0\n",
    "\n",
    "    n = len(nums)\n",
    "    dp = [1] * n\n",
    "\n",
    "    for i in range(1, n):\n",
    "        for j in range(i):\n",
    "            if nums[i] > nums[j]:\n",
    "                dp[i] = max(dp[i], dp[j] + 1)\n",
    "\n",
    "    return max(dp)\n",
    "\n",
    "\n",
    "nums = [10, 9, 2, 5, 3, 7, 101, 18]\n",
    "length = lenth_of_lis(nums)\n",
    "print(length)  \n"
   ]
  },
  {
   "cell_type": "code",
   "execution_count": null,
   "id": "a737183b",
   "metadata": {},
   "outputs": [],
   "source": [
    "#solution 8\n",
    "def find_132_pattern(nums):\n",
    "    n = len(nums)\n",
    "    stack = []\n",
    "    s3 = float('-inf')\n",
    "\n",
    "    for i in range(n - 1, -1, -1):\n",
    "        if nums[i] < s3:\n",
    "            return True\n",
    "        while stack and stack[-1] < nums[i]:\n",
    "            s3 = stack.pop()\n",
    "        stack.append(nums[i])\n",
    "\n",
    "    return False\n",
    "\n",
    "\n",
    "nums = [1, 2, 3, 4]\n",
    "hasPattern = find_132_pattern(nums)\n",
    "print(hasPattern) \n"
   ]
  }
 ],
 "metadata": {
  "kernelspec": {
   "display_name": "Python 3 (ipykernel)",
   "language": "python",
   "name": "python3"
  },
  "language_info": {
   "codemirror_mode": {
    "name": "ipython",
    "version": 3
   },
   "file_extension": ".py",
   "mimetype": "text/x-python",
   "name": "python",
   "nbconvert_exporter": "python",
   "pygments_lexer": "ipython3",
   "version": "3.10.9"
  }
 },
 "nbformat": 4,
 "nbformat_minor": 5
}
