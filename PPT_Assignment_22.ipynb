{
 "cells": [
  {
   "cell_type": "code",
   "execution_count": 4,
   "id": "de70544e",
   "metadata": {},
   "outputs": [
    {
     "name": "stdout",
     "output_type": "stream",
     "text": [
      "10 20 35 "
     ]
    }
   ],
   "source": [
    "#solution 1\n",
    "class TreeNode:\n",
    "    def __init__(self, value):\n",
    "        self.value = value\n",
    "        self.left = None\n",
    "        self.right = None\n",
    "\n",
    "\n",
    "def convert_to_dll(root):\n",
    "    if root is None:\n",
    "        return None\n",
    "\n",
    "    prev = None\n",
    "    head = convert_to_dll(root.left)\n",
    "\n",
    "    if prev:\n",
    "        prev.right = root\n",
    "        root.left = prev\n",
    "    else:\n",
    "        head = root\n",
    "\n",
    "    prev = root\n",
    "\n",
    "    convert_to_dll(root.right)\n",
    "\n",
    "    return head\n",
    "\n",
    "\n",
    "def print_dll(head):\n",
    "    if head is None:\n",
    "        return\n",
    "\n",
    "    current = head\n",
    "\n",
    "    while current:\n",
    "        print(current.value, end=\" \")\n",
    "        current = current.right\n",
    "\n",
    "\n",
    "root = TreeNode(10)\n",
    "root.left = TreeNode(5)\n",
    "root.right = TreeNode(20)\n",
    "root.right.left = TreeNode(30)\n",
    "root.right.right = TreeNode(35)\n",
    "\n",
    "dll_head = convert_to_dll(root)\n",
    "print_dll(dll_head)\n"
   ]
  },
  {
   "cell_type": "code",
   "execution_count": 3,
   "id": "887b21cf",
   "metadata": {},
   "outputs": [
    {
     "name": "stdout",
     "output_type": "stream",
     "text": [
      "5 4 3 2 1 "
     ]
    }
   ],
   "source": [
    "#solution 2\n",
    "class TreeNode:\n",
    "    def __init__(self, value):\n",
    "        self.value = value\n",
    "        self.left = None\n",
    "        self.right = None\n",
    "\n",
    "def flip_binary_tree(root):\n",
    "    if root is None:\n",
    "        return None\n",
    "\n",
    "    if root.left is None and root.right is None:\n",
    "        return root\n",
    "\n",
    "    flipped_root = flip_binary_tree(root.left)\n",
    "\n",
    "    root.left.left = root.right\n",
    "    root.left.right = root\n",
    "    root.left = None\n",
    "    root.right = None\n",
    "\n",
    "    return flipped_root\n",
    "\n",
    "\n",
    "def inorder_traversal(root):\n",
    "    if root is None:\n",
    "        return\n",
    "\n",
    "    inorder_traversal(root.left)\n",
    "    print(root.value, end=\" \")\n",
    "    inorder_traversal(root.right)\n",
    "\n",
    "\n",
    "root = TreeNode(1)\n",
    "root.left = TreeNode(2)\n",
    "root.right = TreeNode(3)\n",
    "root.left.left = TreeNode(4)\n",
    "root.left.right = TreeNode(5)\n",
    "\n",
    "flipped_root = flip_binary_tree(root)\n",
    "inorder_traversal(flipped_root)\n"
   ]
  },
  {
   "cell_type": "code",
   "execution_count": 2,
   "id": "c667d4bd",
   "metadata": {},
   "outputs": [
    {
     "name": "stdout",
     "output_type": "stream",
     "text": [
      "6->3->2\n",
      "6->3->5->7\n",
      "6->3->5->4\n",
      "6->5->4\n"
     ]
    }
   ],
   "source": [
    "#solution 3\n",
    "class TreeNode:\n",
    "    def __init__(self, value):\n",
    "        self.value = value\n",
    "        self.left = None\n",
    "        self.right = None\n",
    "\n",
    "def print_root_to_leaf_paths(root):\n",
    "    if root is None:\n",
    "        return\n",
    "\n",
    "    stack = [(root, str(root.value))]\n",
    "    paths = []\n",
    "\n",
    "    while stack:\n",
    "        current_node, current_path = stack.pop()\n",
    "\n",
    "        if current_node.left is None and current_node.right is None:\n",
    "            paths.append(current_path)\n",
    "\n",
    "        if current_node.right:\n",
    "            stack.append((current_node.right, current_path + \"->\" + str(current_node.right.value)))\n",
    "        if current_node.left:\n",
    "            stack.append((current_node.left, current_path + \"->\" + str(current_node.left.value)))\n",
    "\n",
    "    for path in paths:\n",
    "        print(path)\n",
    "root = TreeNode(6)\n",
    "root.left = TreeNode(3)\n",
    "root.right = TreeNode(5)\n",
    "root.left.left = TreeNode(2)\n",
    "root.left.right = TreeNode(5)\n",
    "root.right.right = TreeNode(4)\n",
    "root.left.right.left = TreeNode(7)\n",
    "root.left.right.right = TreeNode(4)\n",
    "\n",
    "print_root_to_leaf_paths(root)\n"
   ]
  },
  {
   "cell_type": "code",
   "execution_count": 1,
   "id": "cc3f1a7f",
   "metadata": {},
   "outputs": [
    {
     "name": "stdout",
     "output_type": "stream",
     "text": [
      "Yes\n"
     ]
    }
   ],
   "source": [
    "#solution 4\n",
    "def check_same_tree(inorder, preorder, postorder):\n",
    "    if len(inorder) == 0:\n",
    "        return True\n",
    "\n",
    "    if len(inorder) == 1:\n",
    "        return inorder[0] == preorder[0] == postorder[0]\n",
    "\n",
    "    root = preorder[0]\n",
    "\n",
    "    root_index = inorder.index(root)\n",
    "    left_inorder = inorder[:root_index]\n",
    "    left_preorder = preorder[1:root_index + 1]\n",
    "    left_postorder = postorder[:root_index]\n",
    "    left_same = check_same_tree(left_inorder, left_preorder, left_postorder)\n",
    "\n",
    "    right_inorder = inorder[root_index + 1:]\n",
    "    right_preorder = preorder[root_index + 1:]\n",
    "    right_postorder = postorder[root_index:-1]\n",
    "    right_same = check_same_tree(right_inorder, right_preorder, right_postorder)\n",
    "\n",
    "    \n",
    "    return left_same and right_same\n",
    "\n",
    "\n",
    "inorder = [4, 2, 5, 1, 3]\n",
    "preorder = [1, 2, 4, 5, 3]\n",
    "postorder = [4, 5, 2, 3, 1]\n",
    "if check_same_tree(inorder, preorder, postorder):\n",
    "    print(\"Yes\")\n",
    "else:\n",
    "    print(\"No\")\n"
   ]
  }
 ],
 "metadata": {
  "kernelspec": {
   "display_name": "Python 3 (ipykernel)",
   "language": "python",
   "name": "python3"
  },
  "language_info": {
   "codemirror_mode": {
    "name": "ipython",
    "version": 3
   },
   "file_extension": ".py",
   "mimetype": "text/x-python",
   "name": "python",
   "nbconvert_exporter": "python",
   "pygments_lexer": "ipython3",
   "version": "3.10.9"
  }
 },
 "nbformat": 4,
 "nbformat_minor": 5
}
