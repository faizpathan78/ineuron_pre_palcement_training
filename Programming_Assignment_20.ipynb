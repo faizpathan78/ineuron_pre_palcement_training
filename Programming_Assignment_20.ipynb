{
 "cells": [
  {
   "cell_type": "code",
   "execution_count": 1,
   "id": "bef17637",
   "metadata": {},
   "outputs": [
    {
     "name": "stdout",
     "output_type": "stream",
     "text": [
      "Maximum subtree sum: 28\n"
     ]
    }
   ],
   "source": [
    "#solution 1\n",
    "class Node:\n",
    "    def __init__(self, value):\n",
    "        self.value = value\n",
    "        self.left = None\n",
    "        self.right = None\n",
    "\n",
    "def find_max_subtree_sum(root):\n",
    "    if root is None:\n",
    "        return 0\n",
    "    \n",
    "    left_sum = find_max_subtree_sum(root.left)\n",
    "    right_sum = find_max_subtree_sum(root.right)\n",
    "    \n",
    "    current_sum = root.value + left_sum + right_sum\n",
    "    \n",
    "    if current_sum > find_max_subtree_sum.max_sum:\n",
    "        find_max_subtree_sum.max_sum = current_sum\n",
    "    \n",
    "    return current_sum if current_sum > 0 else 0\n",
    "\n",
    "def find_maximum_subtree_sum(root):\n",
    "    find_max_subtree_sum.max_sum = float('-inf')\n",
    "    \n",
    "    find_max_subtree_sum(root)\n",
    "    \n",
    "    return find_max_subtree_sum.max_sum\n",
    "\n",
    "root = Node(1)\n",
    "root.left = Node(2)\n",
    "root.right = Node(3)\n",
    "root.left.left = Node(4)\n",
    "root.left.right = Node(5)\n",
    "root.right.left = Node(6)\n",
    "root.right.right = Node(7)\n",
    "\n",
    "max_sum = find_maximum_subtree_sum(root)\n",
    "\n",
    "print(\"Maximum subtree sum:\", max_sum)\n"
   ]
  },
  {
   "cell_type": "code",
   "execution_count": 2,
   "id": "66394bec",
   "metadata": {},
   "outputs": [
    {
     "name": "stdout",
     "output_type": "stream",
     "text": [
      "BST:\n",
      "5 3 10 4 6 7 8 12 1 "
     ]
    }
   ],
   "source": [
    "#solution 2\n",
    "class Node:\n",
    "    def __init__(self, value):\n",
    "        self.value = value\n",
    "        self.left = None\n",
    "        self.right = None\n",
    "\n",
    "def construct_bst(level_order):\n",
    "    if not level_order:\n",
    "        return None\n",
    "\n",
    "    root = Node(level_order[0])\n",
    "    queue = [root]\n",
    "    i = 1\n",
    "\n",
    "    while i < len(level_order):\n",
    "        curr_node = queue.pop(0)\n",
    "\n",
    "        left_val = level_order[i]\n",
    "        if left_val != None:\n",
    "            left_node = Node(left_val)\n",
    "            curr_node.left = left_node\n",
    "            queue.append(left_node)\n",
    "        i += 1\n",
    "\n",
    "        if i < len(level_order):\n",
    "            right_val = level_order[i]\n",
    "            if right_val != None:\n",
    "                right_node = Node(right_val)\n",
    "                curr_node.right = right_node\n",
    "                queue.append(right_node)\n",
    "            i += 1\n",
    "\n",
    "    return root\n",
    "\n",
    "def inorder_traversal(root):\n",
    "    if root:\n",
    "        inorder_traversal(root.left)\n",
    "        print(root.value, end=\" \")\n",
    "        inorder_traversal(root.right)\n",
    "\n",
    "# Example usage\n",
    "level_order = [7, 4, 12, 3, 6, 8, 1, 5, 10]\n",
    "bst = construct_bst(level_order)\n",
    "\n",
    "print(\"BST:\")\n",
    "inorder_traversal(bst)\n"
   ]
  },
  {
   "cell_type": "code",
   "execution_count": 3,
   "id": "136d110c",
   "metadata": {},
   "outputs": [
    {
     "name": "stdout",
     "output_type": "stream",
     "text": [
      "Output1: No\n",
      "Output2: No\n"
     ]
    }
   ],
   "source": [
    "#solution 3\n",
    "def can_represent_bst(arr):\n",
    "    if not arr:\n",
    "        return False\n",
    "\n",
    "    n = len(arr)\n",
    "    stack = []\n",
    "    root = float('-inf')\n",
    "\n",
    "    for i in range(n):\n",
    "        if arr[i] < root:\n",
    "            return False\n",
    "\n",
    "        while stack and arr[i] > stack[-1]:\n",
    "            root = stack.pop()\n",
    "\n",
    "        stack.append(arr[i])\n",
    "\n",
    "    return True\n",
    "\n",
    "arr1 = [7, 4, 12, 3, 6, 8, 1, 5, 10]\n",
    "result1 = can_represent_bst(arr1)\n",
    "print(\"Output1:\", \"Yes\" if result1 else \"No\")\n",
    "\n",
    "arr2 = [11, 6, 13, 5, 12, 10]\n",
    "result2 = can_represent_bst(arr2)\n",
    "print(\"Output2:\", \"Yes\" if result2 else \"No\")\n"
   ]
  }
 ],
 "metadata": {
  "kernelspec": {
   "display_name": "Python 3 (ipykernel)",
   "language": "python",
   "name": "python3"
  },
  "language_info": {
   "codemirror_mode": {
    "name": "ipython",
    "version": 3
   },
   "file_extension": ".py",
   "mimetype": "text/x-python",
   "name": "python",
   "nbconvert_exporter": "python",
   "pygments_lexer": "ipython3",
   "version": "3.10.9"
  }
 },
 "nbformat": 4,
 "nbformat_minor": 5
}
