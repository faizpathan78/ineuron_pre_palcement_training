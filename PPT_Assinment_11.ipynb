{
 "cells": [
  {
   "cell_type": "code",
   "execution_count": 1,
   "id": "641313ae",
   "metadata": {},
   "outputs": [
    {
     "name": "stdout",
     "output_type": "stream",
     "text": [
      "2\n"
     ]
    }
   ],
   "source": [
    "#solution 1\n",
    "def my_sqrt(x):\n",
    "    if x == 0:\n",
    "        return 0\n",
    "    \n",
    "    left = 1\n",
    "    right = x\n",
    "    \n",
    "    while left <= right:\n",
    "        mid = (left + right) // 2\n",
    "        square = mid * mid\n",
    "        \n",
    "        if square == x:\n",
    "            return mid\n",
    "        elif square > x:\n",
    "            right = mid - 1\n",
    "        else:\n",
    "            left = mid + 1\n",
    "    \n",
    "    return left - 1\n",
    "\n",
    "x = 4\n",
    "result = my_sqrt(x)\n",
    "print(result)  \n"
   ]
  },
  {
   "cell_type": "code",
   "execution_count": 2,
   "id": "893bd094",
   "metadata": {},
   "outputs": [
    {
     "name": "stdout",
     "output_type": "stream",
     "text": [
      "1\n"
     ]
    }
   ],
   "source": [
    "#solution 2\n",
    "def find_peak_element(nums):\n",
    "    left = 0\n",
    "    right = len(nums) - 1\n",
    "    \n",
    "    while left < right:\n",
    "        mid = (left + right) // 2\n",
    "        \n",
    "        if nums[mid] > nums[mid + 1] or (mid > 0 and nums[mid] > nums[mid - 1]):\n",
    "            return mid\n",
    "        \n",
    "        if nums[mid] < nums[mid + 1]:\n",
    "            left = mid + 1\n",
    "        else:\n",
    "            right = mid - 1\n",
    "    \n",
    "    return left\n",
    "\n",
    "nums = [1, 2, 3, 1]\n",
    "result = find_peak_element(nums)\n",
    "print(result)  \n"
   ]
  },
  {
   "cell_type": "code",
   "execution_count": 3,
   "id": "63578795",
   "metadata": {},
   "outputs": [
    {
     "name": "stdout",
     "output_type": "stream",
     "text": [
      "2\n"
     ]
    }
   ],
   "source": [
    "#solution 3\n",
    "def missing_number(nums):\n",
    "    n = len(nums)\n",
    "    expected_sum = (n * (n + 1)) // 2\n",
    "    actual_sum = 0\n",
    "    \n",
    "    for num in nums:\n",
    "        actual_sum += num\n",
    "    \n",
    "    return expected_sum - actual_sum\n",
    "\n",
    "nums = [3, 0, 1]\n",
    "result = missing_number(nums)\n",
    "print(result) \n"
   ]
  },
  {
   "cell_type": "code",
   "execution_count": 4,
   "id": "3e52af75",
   "metadata": {},
   "outputs": [
    {
     "name": "stdout",
     "output_type": "stream",
     "text": [
      "2\n"
     ]
    }
   ],
   "source": [
    "#solution 4\n",
    "def find_duplicate(nums):\n",
    "    slow = nums[0]\n",
    "    fast = nums[0]\n",
    "    \n",
    "    while True:\n",
    "        slow = nums[slow]\n",
    "        fast = nums[nums[fast]]\n",
    "        if slow == fast:\n",
    "            break\n",
    "    \n",
    "    \n",
    "    slow = nums[0]\n",
    "    while slow != fast:\n",
    "        slow = nums[slow]\n",
    "        fast = nums[fast]\n",
    "    \n",
    "    return slow\n",
    "\n",
    "nums = [1, 3, 4, 2, 2]\n",
    "result = find_duplicate(nums)\n",
    "print(result) \n"
   ]
  },
  {
   "cell_type": "code",
   "execution_count": 5,
   "id": "f55792d8",
   "metadata": {},
   "outputs": [
    {
     "name": "stdout",
     "output_type": "stream",
     "text": [
      "[2]\n"
     ]
    }
   ],
   "source": [
    "#solution 5\n",
    "def intersection(nums1, nums2):\n",
    "    set1 = set(nums1)\n",
    "    set2 = set(nums2)\n",
    "    \n",
    "    return list(set1.intersection(set2))\n",
    "\n",
    "nums1 = [1, 2, 2, 1]\n",
    "nums2 = [2, 2]\n",
    "result = intersection(nums1, nums2)\n",
    "print(result) \n"
   ]
  },
  {
   "cell_type": "code",
   "execution_count": 6,
   "id": "ad166c7a",
   "metadata": {},
   "outputs": [
    {
     "name": "stdout",
     "output_type": "stream",
     "text": [
      "1\n"
     ]
    }
   ],
   "source": [
    "#solution 6\n",
    "def find_min(nums):\n",
    "    left = 0\n",
    "    right = len(nums) - 1\n",
    "    \n",
    "    while left <= right:\n",
    "        if nums[left] <= nums[right]:\n",
    "            return nums[left]\n",
    "        \n",
    "        mid = (left + right) // 2\n",
    "        \n",
    "        if nums[mid] < nums[mid - 1] and nums[mid] < nums[mid + 1]:\n",
    "            return nums[mid]\n",
    "        elif nums[mid] > nums[right]:\n",
    "            left = mid + 1\n",
    "        else:\n",
    "            right = mid - 1\n",
    "    \n",
    "    return nums[left]\n",
    "\n",
    "nums = [3, 4, 5, 1, 2]\n",
    "result = find_min(nums)\n",
    "print(result)  \n"
   ]
  },
  {
   "cell_type": "code",
   "execution_count": 7,
   "id": "1bdcb131",
   "metadata": {},
   "outputs": [
    {
     "name": "stdout",
     "output_type": "stream",
     "text": [
      "[3, 4]\n"
     ]
    }
   ],
   "source": [
    "#solution 7\n",
    "def search_range(nums, target):\n",
    "    left = -1\n",
    "    right = -1\n",
    "    \n",
    "    # Binary search for leftmost position\n",
    "    start = 0\n",
    "    end = len(nums) - 1\n",
    "    \n",
    "    while start <= end:\n",
    "        mid = (start + end) // 2\n",
    "        \n",
    "        if nums[mid] == target:\n",
    "            left = mid\n",
    "            end = mid - 1\n",
    "        elif nums[mid] < target:\n",
    "            start = mid + 1\n",
    "        else:\n",
    "            end = mid - 1\n",
    "    \n",
    "    # Binary search for rightmost position\n",
    "    start = 0\n",
    "    end = len(nums) - 1\n",
    "    \n",
    "    while start <= end:\n",
    "        mid = (start + end) // 2\n",
    "        \n",
    "        if nums[mid] == target:\n",
    "            right = mid\n",
    "            start = mid + 1\n",
    "        elif nums[mid] > target:\n",
    "            end = mid - 1\n",
    "        else:\n",
    "            start = mid + 1\n",
    "    \n",
    "    return [left, right]\n",
    "\n",
    "nums = [5, 7, 7, 8, 8, 10]\n",
    "target = 8\n",
    "result = search_range(nums, target)\n",
    "print(result) "
   ]
  },
  {
   "cell_type": "code",
   "execution_count": 8,
   "id": "ab3a4416",
   "metadata": {},
   "outputs": [
    {
     "name": "stdout",
     "output_type": "stream",
     "text": [
      "[2, 2]\n"
     ]
    }
   ],
   "source": [
    "#solution 8\n",
    "def intersect(nums1, nums2):\n",
    "    count = {}\n",
    "    \n",
    "    for num in nums1:\n",
    "        count[num] = count.get(num, 0) + 1\n",
    "    \n",
    "    result = []\n",
    "    \n",
    "    for num in nums2:\n",
    "        if num in count and count[num] > 0:\n",
    "            result.append(num)\n",
    "            count[num] -= 1\n",
    "    \n",
    "    return result\n",
    "\n",
    "nums1 = [1, 2, 2, 1]\n",
    "nums2 = [2, 2]\n",
    "result = intersect(nums1, nums2)\n",
    "print(result) "
   ]
  }
 ],
 "metadata": {
  "kernelspec": {
   "display_name": "Python 3 (ipykernel)",
   "language": "python",
   "name": "python3"
  },
  "language_info": {
   "codemirror_mode": {
    "name": "ipython",
    "version": 3
   },
   "file_extension": ".py",
   "mimetype": "text/x-python",
   "name": "python",
   "nbconvert_exporter": "python",
   "pygments_lexer": "ipython3",
   "version": "3.10.9"
  }
 },
 "nbformat": 4,
 "nbformat_minor": 5
}
