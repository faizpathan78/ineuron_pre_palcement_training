{
 "cells": [
  {
   "cell_type": "code",
   "execution_count": 3,
   "id": "6d2f6a81",
   "metadata": {},
   "outputs": [
    {
     "name": "stdout",
     "output_type": "stream",
     "text": [
      "True\n"
     ]
    }
   ],
   "source": [
    "#solution 1 \n",
    "def is_isomorphic(s, t):\n",
    "    if len(s) != len(t):\n",
    "        return False\n",
    "\n",
    "    s_to_t = {}\n",
    "    t_to_s = {}\n",
    "\n",
    "    for i in range(len(s)):\n",
    "        char_s, char_t = s[i], t[i]\n",
    "\n",
    "        if char_s in s_to_t and s_to_t[char_s] != char_t:\n",
    "            return False\n",
    "\n",
    "        if char_t in t_to_s and t_to_s[char_t] != char_s:\n",
    "            return False\n",
    "\n",
    "        s_to_t[char_s] = char_t\n",
    "        t_to_s[char_t] = char_s\n",
    "\n",
    "    return True\n",
    "s = \"egg\"\n",
    "t = \"add\"\n",
    "print(is_isomorphic(s, t)) \n"
   ]
  },
  {
   "cell_type": "code",
   "execution_count": 4,
   "id": "ae865cd3",
   "metadata": {},
   "outputs": [
    {
     "name": "stdout",
     "output_type": "stream",
     "text": [
      "True\n"
     ]
    }
   ],
   "source": [
    "#solution 2\n",
    "def is_strobogrammatic(num):\n",
    "    strobogrammatic_pairs = {'0': '0', '1': '1', '6': '9', '8': '8', '9': '6'}\n",
    "    left, right = 0, len(num) - 1\n",
    "\n",
    "    while left <= right:\n",
    "        if num[left] not in strobogrammatic_pairs or num[right] not in strobogrammatic_pairs:\n",
    "            return False\n",
    "\n",
    "        if strobogrammatic_pairs[num[left]] != num[right]:\n",
    "            return False\n",
    "\n",
    "        left += 1\n",
    "        right -= 1\n",
    "\n",
    "    return True\n",
    "\n",
    "\n",
    "num = \"69\"\n",
    "print(is_strobogrammatic(num)) \n"
   ]
  },
  {
   "cell_type": "code",
   "execution_count": 5,
   "id": "15ec8f5b",
   "metadata": {},
   "outputs": [
    {
     "name": "stdout",
     "output_type": "stream",
     "text": [
      "134\n"
     ]
    }
   ],
   "source": [
    "#solution 3\n",
    "def add_strings(num1, num2):\n",
    "    carry = 0\n",
    "    result = []\n",
    "    i, j = len(num1) - 1, len(num2) - 1\n",
    "\n",
    "    while i >= 0 or j >= 0 or carry:\n",
    "        digit_sum = carry\n",
    "        if i >= 0:\n",
    "            digit_sum += int(num1[i])\n",
    "            i -= 1\n",
    "        if j >= 0:\n",
    "            digit_sum += int(num2[j])\n",
    "            j -= 1\n",
    "\n",
    "        result.append(str(digit_sum % 10))\n",
    "        carry = digit_sum // 10\n",
    "\n",
    "    return ''.join(result[::-1])\n",
    "\n",
    "\n",
    "num1 = \"11\"\n",
    "num2 = \"123\"\n",
    "print(add_strings(num1, num2))  # Output: \"134\"\n"
   ]
  },
  {
   "cell_type": "code",
   "execution_count": 7,
   "id": "84ca5947",
   "metadata": {},
   "outputs": [
    {
     "name": "stdout",
     "output_type": "stream",
     "text": [
      "s'teL ekat edoCteeL tsetnoc\n"
     ]
    }
   ],
   "source": [
    "#solution 4\n",
    "def reverse_words(s):\n",
    "    words = s.split()\n",
    "    reversed_words = [word[::-1] for word in words]\n",
    "    return ' '.join(reversed_words)\n",
    "\n",
    "\n",
    "s = \"Let's take LeetCode contest\"\n",
    "print(reverse_words(s)) \n"
   ]
  },
  {
   "cell_type": "code",
   "execution_count": 8,
   "id": "ea31f716",
   "metadata": {},
   "outputs": [
    {
     "name": "stdout",
     "output_type": "stream",
     "text": [
      "bacdfeg\n"
     ]
    }
   ],
   "source": [
    "#solution 5\n",
    "def reverse_str(s, k):\n",
    "    s_list = list(s)\n",
    "    for i in range(0, len(s), 2 * k):\n",
    "        s_list[i:i+k] = reversed(s_list[i:i+k])\n",
    "    return ''.join(s_list)\n",
    "\n",
    "\n",
    "s = \"abcdefg\"\n",
    "k = 2\n",
    "print(reverse_str(s, k))\n"
   ]
  },
  {
   "cell_type": "code",
   "execution_count": 10,
   "id": "6110cbc4",
   "metadata": {},
   "outputs": [
    {
     "name": "stdout",
     "output_type": "stream",
     "text": [
      "True\n"
     ]
    }
   ],
   "source": [
    "#solution 6\n",
    "def rotate_string(s, goal):\n",
    "    if len(s) != len(goal):\n",
    "        return False\n",
    "    if goal in s + s:\n",
    "        return True\n",
    "    return False\n",
    "\n",
    "\n",
    "s = \"abcde\"\n",
    "goal = \"cdeab\"\n",
    "print(rotate_string(s, goal))\n"
   ]
  },
  {
   "cell_type": "code",
   "execution_count": 11,
   "id": "f4954cff",
   "metadata": {},
   "outputs": [
    {
     "name": "stdout",
     "output_type": "stream",
     "text": [
      "ac\n",
      "ac\n",
      "True\n"
     ]
    }
   ],
   "source": [
    "#solution 7\n",
    "def process_string(string):\n",
    "    stack = []\n",
    "    for char in string:\n",
    "        if char != '#':\n",
    "            stack.append(char)\n",
    "        elif stack:\n",
    "            stack.pop()\n",
    "    return ''.join(stack)\n",
    "\n",
    "def backspace_compare(s, t):\n",
    "    processed_s = process_string(s)\n",
    "    processed_t = process_string(t)\n",
    "    return processed_s == processed_t\n",
    "\n",
    "s = \"ab#c\"\n",
    "t = \"ad#c\"\n",
    "\n",
    "processed_s = process_string(s)\n",
    "processed_t = process_string(t)\n",
    "\n",
    "print(processed_s)  \n",
    "print(processed_t) \n",
    "\n",
    "print(backspace_compare(s, t))\n"
   ]
  },
  {
   "cell_type": "code",
   "execution_count": 12,
   "id": "3d8c6585",
   "metadata": {},
   "outputs": [
    {
     "name": "stdout",
     "output_type": "stream",
     "text": [
      "True\n"
     ]
    }
   ],
   "source": [
    "#solution 8\n",
    "def checkStraightLine(coordinates):\n",
    "    if len(coordinates) <= 2:\n",
    "        return True\n",
    "\n",
    "    x0, y0 = coordinates[0]\n",
    "    x1, y1 = coordinates[1]\n",
    "\n",
    "    for i in range(2, len(coordinates)):\n",
    "        xi, yi = coordinates[i]\n",
    "        if (x1 - x0) * (yi - y0) != (xi - x0) * (y1 - y0):\n",
    "            return False\n",
    "\n",
    "    return True\n",
    "\n",
    "coordinates = [[1, 2], [2, 3], [3, 4], [4, 5], [5, 6], [6, 7]]\n",
    "print(checkStraightLine(coordinates))"
   ]
  }
 ],
 "metadata": {
  "kernelspec": {
   "display_name": "Python 3 (ipykernel)",
   "language": "python",
   "name": "python3"
  },
  "language_info": {
   "codemirror_mode": {
    "name": "ipython",
    "version": 3
   },
   "file_extension": ".py",
   "mimetype": "text/x-python",
   "name": "python",
   "nbconvert_exporter": "python",
   "pygments_lexer": "ipython3",
   "version": "3.10.9"
  }
 },
 "nbformat": 4,
 "nbformat_minor": 5
}
